{
  "nbformat": 4,
  "nbformat_minor": 0,
  "metadata": {
    "colab": {
      "provenance": [],
      "authorship_tag": "ABX9TyOU2JlKlCtgc7r2exQnm7Tt",
      "include_colab_link": true
    },
    "kernelspec": {
      "name": "python3",
      "display_name": "Python 3"
    },
    "language_info": {
      "name": "python"
    }
  },
  "cells": [
    {
      "cell_type": "markdown",
      "metadata": {
        "id": "view-in-github",
        "colab_type": "text"
      },
      "source": [
        "<a href=\"https://colab.research.google.com/github/WinNatch/Modelling-Individual-Assessment/blob/main/Q1_Individual_Assessment.ipynb\" target=\"_parent\"><img src=\"https://colab.research.google.com/assets/colab-badge.svg\" alt=\"Open In Colab\"/></a>"
      ]
    },
    {
      "cell_type": "code",
      "source": [
        "# Intall and Import Package/Library\n",
        "!pip install pulp\n",
        "from pulp import *"
      ],
      "metadata": {
        "colab": {
          "base_uri": "https://localhost:8080/"
        },
        "id": "SyVyOSowk2oM",
        "outputId": "61c57232-8676-4334-be7d-427b90c13288"
      },
      "execution_count": null,
      "outputs": [
        {
          "output_type": "stream",
          "name": "stdout",
          "text": [
            "Collecting pulp\n",
            "  Downloading PuLP-2.9.0-py3-none-any.whl.metadata (5.4 kB)\n",
            "Downloading PuLP-2.9.0-py3-none-any.whl (17.7 MB)\n",
            "\u001b[2K   \u001b[90m━━━━━━━━━━━━━━━━━━━━━━━━━━━━━━━━━━━━━━━━\u001b[0m \u001b[32m17.7/17.7 MB\u001b[0m \u001b[31m26.4 MB/s\u001b[0m eta \u001b[36m0:00:00\u001b[0m\n",
            "\u001b[?25hInstalling collected packages: pulp\n",
            "Successfully installed pulp-2.9.0\n"
          ]
        }
      ]
    },
    {
      "cell_type": "markdown",
      "source": [
        "##Question A"
      ],
      "metadata": {
        "id": "_M1bGKML6wNj"
      }
    },
    {
      "cell_type": "code",
      "execution_count": null,
      "metadata": {
        "colab": {
          "base_uri": "https://localhost:8080/"
        },
        "id": "gQG95agXegwH",
        "outputId": "ee4e7009-4621-4650-ae61-7992d6778394"
      },
      "outputs": [
        {
          "output_type": "stream",
          "name": "stdout",
          "text": [
            "Model Status:Optimal\n",
            "Inventory_('A',_0) = 0.0\n",
            "Inventory_('A',_1) = 0.0\n",
            "Inventory_('A',_2) = 0.0\n",
            "Inventory_('A',_3) = 0.0\n",
            "Inventory_('A',_4) = 0.0\n",
            "Inventory_('B',_0) = 0.0\n",
            "Inventory_('B',_1) = 0.0\n",
            "Inventory_('B',_2) = 0.0\n",
            "Inventory_('B',_3) = 0.0\n",
            "Inventory_('B',_4) = 0.0\n",
            "Inventory_('C',_0) = 0.0\n",
            "Inventory_('C',_1) = 42.0\n",
            "Inventory_('C',_2) = 113.0\n",
            "Inventory_('C',_3) = 99.0\n",
            "Inventory_('C',_4) = 0.0\n",
            "Quantity_('A',_0) = 0.0\n",
            "Quantity_('A',_1) = 100.0\n",
            "Quantity_('A',_2) = 110.0\n",
            "Quantity_('A',_3) = 120.0\n",
            "Quantity_('A',_4) = 130.0\n",
            "Quantity_('B',_0) = 0.0\n",
            "Quantity_('B',_1) = 80.0\n",
            "Quantity_('B',_2) = 90.0\n",
            "Quantity_('B',_3) = 100.0\n",
            "Quantity_('B',_4) = 110.0\n",
            "Quantity_('C',_0) = 0.0\n",
            "Quantity_('C',_1) = 162.0\n",
            "Quantity_('C',_2) = 201.0\n",
            "Quantity_('C',_3) = 126.0\n",
            "Quantity_('C',_4) = 51.0\n",
            "Objective= 26127.0\n"
          ]
        }
      ],
      "source": [
        "# Define Environment & Direction of Optimization\n",
        "model = LpProblem(\"Q1\", sense=LpMinimize)\n",
        "\n",
        "# List of Product\n",
        "product = ['A', 'B', 'C']\n",
        "\n",
        "# List (TimePeriods)\n",
        "month = [0,1,2,3,4]\n",
        "\n",
        "# Parameters and Data\n",
        "A_demand = {1:100, 2:110, 3:120, 4:130} # Demand data per time period\n",
        "B_demand = {1:80, 2:90, 3:100, 4:110} # Demand data per time period\n",
        "C_demand = {1:120, 2:130, 3:140, 4:150} # Demand data per time period\n",
        "UPC = {'A':20, 'B':30, 'C':10} # Unit Production Cost per time period\n",
        "UHC = {'A':1, 'B':2, 'C':0.5} # Unit Holding Cost per time period\n",
        "UPH = {'A':1.2, 'B':1.3, 'C':1} # Production hour per unit\n",
        "TPC = {1:500, 2:450, 3:400, 4:350} # Production Capacity per time period\n",
        "\n",
        "# Desicion Variables\n",
        "Pt = LpVariable.dicts(\"Quantity\", [(i,j) for i in product for j in month], lowBound=0, cat='Integer')\n",
        "It = LpVariable.dicts(\"Inventory\", [(i,j) for i in product for j in month], lowBound=0, cat='Integer')\n",
        "\n",
        "# Objective Function\n",
        "model += (lpSum(UPC[i]*Pt[i,j] for i in product for j in month) + lpSum(UHC[i]*It[i,j] for i in product for j in month))\n",
        "\n",
        "# Constraints\n",
        "for i in product:\n",
        "    model += It[i,0] == 0\n",
        "\n",
        "for j in month[1:]:\n",
        "    model += (Pt['A', j] + It['A', j-1] - It['A', j]) == A_demand[j] # A_Inventory-Balancing Constraints\n",
        "    model += (Pt['B', j] + It['B', j-1] - It['B', j]) == B_demand[j] # B_Inventory-Balancing Constraints\n",
        "    model += (Pt['C', j] + It['C', j-1] - It['C', j]) == C_demand[j] # C_Inventory-Balancing Constraints\n",
        "    model += lpSum(UPH[i] * Pt[i,j] for i in product) <= TPC[j] # Production Hour Capacity Constraints\n",
        "\n",
        "for i in product:\n",
        "    model += It[i,4] == 0 # To Ensure no Remaing Invetory Left\n",
        "\n",
        "# Solve the Problem\n",
        "model.writeLP(\"Q1.lp\")\n",
        "model.solve()\n",
        "\n",
        "# The Status of the Solution\n",
        "print(\"Model Status:{}\".format(LpStatus[model.status]))\n",
        "\n",
        "# To Display Optimal Decision Variables & Reduced Cost per Variable\n",
        "for v in model.variables():\n",
        "\t  print(v.name, \"=\", v.varValue)\n",
        "\n",
        "# To Display Optimal Value of Objective Function\n",
        "print(\"Objective=\", value(model.objective))"
      ]
    },
    {
      "cell_type": "code",
      "source": [
        "from pulp import LpStatus, value\n",
        "\n",
        "# The Status of the Solution\n",
        "print(\"Model Status:{}\".format(LpStatus[model.status]))\n",
        "\n",
        "# Initialize dictionaries to store inventory and quantity values\n",
        "inventory_values = {}\n",
        "quantity_values = {}\n",
        "\n",
        "# Store Optimal Decision Variables\n",
        "for v in model.variables():\n",
        "    if \"_0\" not in v.name:\n",
        "        if \"Inventory\" in v.name:\n",
        "            inventory_values[v.name] = v.varValue\n",
        "        elif \"Quantity\" in v.name:\n",
        "            quantity_values[v.name] = v.varValue\n",
        "\n",
        "# Extract keys for quantities and inventories\n",
        "quantity_keys = sorted(quantity_values.keys())\n",
        "inventory_keys = sorted(inventory_values.keys())\n",
        "\n",
        "# Print the results in separate columns for quantities and inventories\n",
        "print(\"\\nOptimal Assignment Plan\")\n",
        "print(f\"{'Quantity':<31} {'Inventory'}\")\n",
        "print(f\"{'-'*31} {'-'*30}\")\n",
        "\n",
        "max_len = max(len(quantity_keys), len(inventory_keys))\n",
        "\n",
        "# Print the table with Quantity and Inventory in separate columns\n",
        "for i in range(max_len):\n",
        "    quantity_key = quantity_keys[i] if i < len(quantity_keys) else \"\"\n",
        "    inventory_key = inventory_keys[i] if i < len(inventory_keys) else \"\"\n",
        "\n",
        "    quantity_value = quantity_values.get(quantity_key, \"\")\n",
        "    inventory_value = inventory_values.get(inventory_key, \"\")\n",
        "\n",
        "    print(f\"{quantity_key:<20} {quantity_value:<10} {inventory_key:<20} {inventory_value}\")\n",
        "\n",
        "# Display Optimal Value of Objective Function\n",
        "print(\"\\nTotal Cost = £\", value(model.objective))\n"
      ],
      "metadata": {
        "colab": {
          "base_uri": "https://localhost:8080/"
        },
        "id": "MQ35c9h4Dc99",
        "outputId": "a98c7969-3073-4ce4-d122-19d3e041427f"
      },
      "execution_count": null,
      "outputs": [
        {
          "output_type": "stream",
          "name": "stdout",
          "text": [
            "Model Status:Optimal\n",
            "\n",
            "Optimal Assignment Plan\n",
            "Quantity                        Inventory\n",
            "------------------------------- ------------------------------\n",
            "Quantity_('A',_1)    100.0      Inventory_('A',_1)   0.0\n",
            "Quantity_('A',_2)    110.0      Inventory_('A',_2)   0.0\n",
            "Quantity_('A',_3)    120.0      Inventory_('A',_3)   0.0\n",
            "Quantity_('A',_4)    130.0      Inventory_('A',_4)   0.0\n",
            "Quantity_('B',_1)    80.0       Inventory_('B',_1)   0.0\n",
            "Quantity_('B',_2)    90.0       Inventory_('B',_2)   0.0\n",
            "Quantity_('B',_3)    100.0      Inventory_('B',_3)   0.0\n",
            "Quantity_('B',_4)    110.0      Inventory_('B',_4)   0.0\n",
            "Quantity_('C',_1)    162.0      Inventory_('C',_1)   42.0\n",
            "Quantity_('C',_2)    201.0      Inventory_('C',_2)   113.0\n",
            "Quantity_('C',_3)    126.0      Inventory_('C',_3)   99.0\n",
            "Quantity_('C',_4)    51.0       Inventory_('C',_4)   0.0\n",
            "\n",
            "Total Cost = £ 26127.0\n"
          ]
        }
      ]
    },
    {
      "cell_type": "markdown",
      "source": [
        "##Question B"
      ],
      "metadata": {
        "id": "wyaANncp620A"
      }
    },
    {
      "cell_type": "code",
      "source": [
        "# Define Environment & Direction of Optimization\n",
        "model = LpProblem(\"Q1\", sense=LpMinimize)\n",
        "\n",
        "# List of Product\n",
        "product = ['A', 'B', 'C']\n",
        "\n",
        "# List (TimePeriods)\n",
        "month = [0,1,2,3,4]\n",
        "\n",
        "# Parameters and Data\n",
        "A_demand = {1:100, 2:110, 3:120, 4:130} # Demand data per time period\n",
        "B_demand = {1:80, 2:90, 3:100, 4:110} # Demand data per time period\n",
        "C_demand = {1:120, 2:130, 3:140, 4:150} # Demand data per time period\n",
        "UPC = {'A':20, 'B':30, 'C':10} # Unit Production Cost per time period\n",
        "UHC = {'A':1, 'B':2, 'C':0.5} # Unit Holding Cost per time period\n",
        "UPH = {'A':1.2, 'B':1.3, 'C':1} # Production hour per unit\n",
        "TPC = {1:500, 2:450, 3:400, 4:350} # Production Capacity per time period\n",
        "\n",
        "# Desicion Variables\n",
        "Pt = LpVariable.dicts(\"Quantity\", [(i,j) for i in product for j in month], lowBound=0, cat='Integer')\n",
        "It = LpVariable.dicts(\"Inventory\", [(i,j) for i in product for j in month], lowBound=0, cat='Integer')\n",
        "\n",
        "# Objective Function\n",
        "model += (lpSum(UPC[i]*Pt[i,j] for i in product for j in month) + lpSum(UHC[i]*It[i,j] for i in product for j in month)) - (UPC['B']*Pt['B',3]) + (35*Pt['B',3])\n",
        "\n",
        "# Constraints\n",
        "for i in product:\n",
        "    model += It[i,0] == 0\n",
        "\n",
        "for j in month[1:]:\n",
        "    model += (Pt['A', j] + It['A', j-1] - It['A', j]) == A_demand[j] # A_Inventory-Balancing Constraints\n",
        "    model += (Pt['B', j] + It['B', j-1] - It['B', j]) == B_demand[j] # B_Inventory-Balancing Constraints\n",
        "    model += (Pt['C', j] + It['C', j-1] - It['C', j]) == C_demand[j] # C_Inventory-Balancing Constraints\n",
        "    model += lpSum(UPH[i] * Pt[i,j] for i in product) <= TPC[j] # Production Hour Capacity Constraints\n",
        "\n",
        "for i in product:\n",
        "    model += It[i,4] == 0\n",
        "\n",
        "# Solve the Problem\n",
        "model.writeLP(\"Q1.lp\")\n",
        "model.solve()\n",
        "\n",
        "# The Status of the Solution\n",
        "print(\"Model Status:{}\".format(LpStatus[model.status]))\n",
        "\n",
        "# To Display Optimal Decision Variables & Reduced Cost per Variable\n",
        "for v in model.variables():\n",
        "\t  print(v.name, \"=\", v.varValue)\n",
        "\n",
        "# To Display Optimal Value of Objective Function\n",
        "print(\"Objective=\", value(model.objective))"
      ],
      "metadata": {
        "colab": {
          "base_uri": "https://localhost:8080/"
        },
        "id": "Fn7eQzhz65jB",
        "outputId": "9f5491b2-d707-478b-8990-910b5e8b9d1b"
      },
      "execution_count": null,
      "outputs": [
        {
          "output_type": "stream",
          "name": "stdout",
          "text": [
            "Model Status:Optimal\n",
            "Inventory_('A',_0) = 0.0\n",
            "Inventory_('A',_1) = 0.0\n",
            "Inventory_('A',_2) = 0.0\n",
            "Inventory_('A',_3) = 0.0\n",
            "Inventory_('A',_4) = 0.0\n",
            "Inventory_('B',_0) = 0.0\n",
            "Inventory_('B',_1) = 0.0\n",
            "Inventory_('B',_2) = 100.0\n",
            "Inventory_('B',_3) = 0.0\n",
            "Inventory_('B',_4) = 0.0\n",
            "Inventory_('C',_0) = 0.0\n",
            "Inventory_('C',_1) = 59.0\n",
            "Inventory_('C',_2) = 0.0\n",
            "Inventory_('C',_3) = 99.0\n",
            "Inventory_('C',_4) = 0.0\n",
            "Quantity_('A',_0) = 0.0\n",
            "Quantity_('A',_1) = 100.0\n",
            "Quantity_('A',_2) = 110.0\n",
            "Quantity_('A',_3) = 120.0\n",
            "Quantity_('A',_4) = 130.0\n",
            "Quantity_('B',_0) = 0.0\n",
            "Quantity_('B',_1) = 80.0\n",
            "Quantity_('B',_2) = 190.0\n",
            "Quantity_('B',_3) = 0.0\n",
            "Quantity_('B',_4) = 110.0\n",
            "Quantity_('C',_0) = 0.0\n",
            "Quantity_('C',_1) = 179.0\n",
            "Quantity_('C',_2) = 71.0\n",
            "Quantity_('C',_3) = 239.0\n",
            "Quantity_('C',_4) = 51.0\n",
            "Objective= 26279.0\n"
          ]
        }
      ]
    },
    {
      "cell_type": "code",
      "source": [
        "from pulp import LpStatus, value\n",
        "\n",
        "# The Status of the Solution\n",
        "print(\"Model Status:{}\".format(LpStatus[model.status]))\n",
        "\n",
        "# Initialize dictionaries to store inventory and quantity values\n",
        "inventory_values = {}\n",
        "quantity_values = {}\n",
        "\n",
        "# Store Optimal Decision Variables\n",
        "for v in model.variables():\n",
        "    if \"_0\" not in v.name:\n",
        "        if \"Inventory\" in v.name:\n",
        "            inventory_values[v.name] = v.varValue\n",
        "        elif \"Quantity\" in v.name:\n",
        "            quantity_values[v.name] = v.varValue\n",
        "\n",
        "# Extract keys for quantities and inventories\n",
        "quantity_keys = sorted(quantity_values.keys())\n",
        "inventory_keys = sorted(inventory_values.keys())\n",
        "\n",
        "# Print the results in separate columns for quantities and inventories\n",
        "print(\"\\nOptimal Assignment Plan\")\n",
        "print(f\"{'Quantity':<31} {'Inventory'}\")\n",
        "print(f\"{'-'*31} {'-'*30}\")\n",
        "\n",
        "max_len = max(len(quantity_keys), len(inventory_keys))\n",
        "\n",
        "# Print the table with Quantity and Inventory in separate columns\n",
        "for i in range(max_len):\n",
        "    quantity_key = quantity_keys[i] if i < len(quantity_keys) else \"\"\n",
        "    inventory_key = inventory_keys[i] if i < len(inventory_keys) else \"\"\n",
        "\n",
        "    quantity_value = quantity_values.get(quantity_key, \"\")\n",
        "    inventory_value = inventory_values.get(inventory_key, \"\")\n",
        "\n",
        "    print(f\"{quantity_key:<20} {quantity_value:<10} {inventory_key:<20} {inventory_value}\")\n",
        "\n",
        "# Display Optimal Value of Objective Function\n",
        "print(\"\\nTotal Cost = £\", value(model.objective))"
      ],
      "metadata": {
        "colab": {
          "base_uri": "https://localhost:8080/"
        },
        "id": "LqLuUnGJJdpi",
        "outputId": "afef0e7c-f741-499a-d2d6-e2135d271b71"
      },
      "execution_count": null,
      "outputs": [
        {
          "output_type": "stream",
          "name": "stdout",
          "text": [
            "Model Status:Optimal\n",
            "\n",
            "Optimal Assignment Plan\n",
            "Quantity                        Inventory\n",
            "------------------------------- ------------------------------\n",
            "Quantity_('A',_1)    100.0      Inventory_('A',_1)   0.0\n",
            "Quantity_('A',_2)    110.0      Inventory_('A',_2)   0.0\n",
            "Quantity_('A',_3)    120.0      Inventory_('A',_3)   0.0\n",
            "Quantity_('A',_4)    130.0      Inventory_('A',_4)   0.0\n",
            "Quantity_('B',_1)    80.0       Inventory_('B',_1)   0.0\n",
            "Quantity_('B',_2)    190.0      Inventory_('B',_2)   100.0\n",
            "Quantity_('B',_3)    0.0        Inventory_('B',_3)   0.0\n",
            "Quantity_('B',_4)    110.0      Inventory_('B',_4)   0.0\n",
            "Quantity_('C',_1)    179.0      Inventory_('C',_1)   59.0\n",
            "Quantity_('C',_2)    71.0       Inventory_('C',_2)   0.0\n",
            "Quantity_('C',_3)    239.0      Inventory_('C',_3)   99.0\n",
            "Quantity_('C',_4)    51.0       Inventory_('C',_4)   0.0\n",
            "\n",
            "Total Cost = £ 26279.0\n"
          ]
        }
      ]
    },
    {
      "cell_type": "markdown",
      "source": [
        "##Question C"
      ],
      "metadata": {
        "id": "svYFg4oO8o40"
      }
    },
    {
      "cell_type": "code",
      "source": [
        "# Define Environment & Direction of Optimization\n",
        "model = LpProblem(\"Q1\", sense=LpMinimize)\n",
        "\n",
        "# List of Product\n",
        "product = ['A', 'B', 'C']\n",
        "\n",
        "# List (TimePeriods)\n",
        "month = [0,1,2,3,4]\n",
        "\n",
        "# Parameters and Data\n",
        "A_demand = {1:100, 2:110, 3:120, 4:130} # Demand data per time period\n",
        "B_demand = {1:80, 2:90, 3:100, 4:110} # Demand data per time period\n",
        "C_demand = {1:120, 2:130, 3:140, 4:170} # Demand data per time period (C in month 4th in crease by 20)\n",
        "UPC = {'A':20, 'B':30, 'C':10} # Unit Production Cost per time period\n",
        "UHC = {'A':1, 'B':2, 'C':0.5} # Unit Holding Cost per time period\n",
        "UPH = {'A':1.2, 'B':1.3, 'C':1} # Production hour per unit\n",
        "TPC = {1:500, 2:450, 3:400, 4:350} # Production Capacity per time period\n",
        "\n",
        "# Desicion Variables\n",
        "Pt = LpVariable.dicts(\"Quantity\", [(i,j) for i in product for j in month], lowBound=0, cat='Integer')\n",
        "It = LpVariable.dicts(\"Inventory\", [(i,j) for i in product for j in month], lowBound=0, cat='Integer')\n",
        "\n",
        "# Objective Function\n",
        "model += (lpSum(UPC[i]*Pt[i,j] for i in product for j in month) + lpSum(UHC[i]*It[i,j] for i in product for j in month))\n",
        "\n",
        "# Constraints\n",
        "for i in product:\n",
        "    model += It[i,0] == 0\n",
        "\n",
        "for j in month[1:]:\n",
        "    model += (Pt['A', j] + It['A', j-1] - It['A', j]) == A_demand[j] # A_Inventory-Balancing Constraints\n",
        "    model += (Pt['B', j] + It['B', j-1] - It['B', j]) == B_demand[j] # B_Inventory-Balancing Constraints\n",
        "    model += (Pt['C', j] + It['C', j-1] - It['C', j]) == C_demand[j] # C_Inventory-Balancing Constraints\n",
        "    model += lpSum(UPH[i] * Pt[i,j] for i in product) <= TPC[j] # Production Hour Capacity Constraints\n",
        "\n",
        "for i in product:\n",
        "    model += It[i,4] == 0\n",
        "\n",
        "# Solve the Problem\n",
        "model.writeLP(\"Q1.lp\")\n",
        "model.solve()\n",
        "\n",
        "# The Status of the Solution\n",
        "print(\"Model Status:{}\".format(LpStatus[model.status]))\n",
        "\n",
        "# To Display Optimal Decision Variables & Reduced Cost per Variable\n",
        "for v in model.variables():\n",
        "\t  print(v.name, \"=\", v.varValue)\n",
        "\n",
        "# To Display Optimal Value of Objective Function\n",
        "print(\"Objective=\", value(model.objective))"
      ],
      "metadata": {
        "colab": {
          "base_uri": "https://localhost:8080/"
        },
        "id": "KNBV_55K8t9v",
        "outputId": "60c25d0b-a381-4b08-fb4a-d3c7ded38f84"
      },
      "execution_count": null,
      "outputs": [
        {
          "output_type": "stream",
          "name": "stdout",
          "text": [
            "Model Status:Optimal\n",
            "Inventory_('A',_0) = 0.0\n",
            "Inventory_('A',_1) = 0.0\n",
            "Inventory_('A',_2) = 0.0\n",
            "Inventory_('A',_3) = 0.0\n",
            "Inventory_('A',_4) = 0.0\n",
            "Inventory_('B',_0) = 0.0\n",
            "Inventory_('B',_1) = 0.0\n",
            "Inventory_('B',_2) = 0.0\n",
            "Inventory_('B',_3) = 0.0\n",
            "Inventory_('B',_4) = 0.0\n",
            "Inventory_('C',_0) = 0.0\n",
            "Inventory_('C',_1) = 62.0\n",
            "Inventory_('C',_2) = 133.0\n",
            "Inventory_('C',_3) = 119.0\n",
            "Inventory_('C',_4) = 0.0\n",
            "Quantity_('A',_0) = 0.0\n",
            "Quantity_('A',_1) = 100.0\n",
            "Quantity_('A',_2) = 110.0\n",
            "Quantity_('A',_3) = 120.0\n",
            "Quantity_('A',_4) = 130.0\n",
            "Quantity_('B',_0) = 0.0\n",
            "Quantity_('B',_1) = 80.0\n",
            "Quantity_('B',_2) = 90.0\n",
            "Quantity_('B',_3) = 100.0\n",
            "Quantity_('B',_4) = 110.0\n",
            "Quantity_('C',_0) = 0.0\n",
            "Quantity_('C',_1) = 182.0\n",
            "Quantity_('C',_2) = 201.0\n",
            "Quantity_('C',_3) = 126.0\n",
            "Quantity_('C',_4) = 51.0\n",
            "Objective= 26357.0\n"
          ]
        }
      ]
    },
    {
      "cell_type": "code",
      "source": [
        "from pulp import LpStatus, value\n",
        "\n",
        "# The Status of the Solution\n",
        "print(\"Model Status:{}\".format(LpStatus[model.status]))\n",
        "\n",
        "# Initialize dictionaries to store inventory and quantity values\n",
        "inventory_values = {}\n",
        "quantity_values = {}\n",
        "\n",
        "# Store Optimal Decision Variables\n",
        "for v in model.variables():\n",
        "    if \"_0\" not in v.name:\n",
        "        if \"Inventory\" in v.name:\n",
        "            inventory_values[v.name] = v.varValue\n",
        "        elif \"Quantity\" in v.name:\n",
        "            quantity_values[v.name] = v.varValue\n",
        "\n",
        "# Extract keys for quantities and inventories\n",
        "quantity_keys = sorted(quantity_values.keys())\n",
        "inventory_keys = sorted(inventory_values.keys())\n",
        "\n",
        "# Print the results in separate columns for quantities and inventories\n",
        "print(\"\\nOptimal Assignment Plan\")\n",
        "print(f\"{'Quantity':<31} {'Inventory'}\")\n",
        "print(f\"{'-'*31} {'-'*30}\")\n",
        "\n",
        "max_len = max(len(quantity_keys), len(inventory_keys))\n",
        "\n",
        "# Print the table with Quantity and Inventory in separate columns\n",
        "for i in range(max_len):\n",
        "    quantity_key = quantity_keys[i] if i < len(quantity_keys) else \"\"\n",
        "    inventory_key = inventory_keys[i] if i < len(inventory_keys) else \"\"\n",
        "\n",
        "    quantity_value = quantity_values.get(quantity_key, \"\")\n",
        "    inventory_value = inventory_values.get(inventory_key, \"\")\n",
        "\n",
        "    print(f\"{quantity_key:<20} {quantity_value:<10} {inventory_key:<20} {inventory_value}\")\n",
        "\n",
        "# Display Optimal Value of Objective Function\n",
        "print(\"\\nTotal Cost = £\", value(model.objective))"
      ],
      "metadata": {
        "colab": {
          "base_uri": "https://localhost:8080/"
        },
        "id": "CqZBFMIQSBAQ",
        "outputId": "3807f978-f4bf-438d-d674-383423d21437"
      },
      "execution_count": null,
      "outputs": [
        {
          "output_type": "stream",
          "name": "stdout",
          "text": [
            "Model Status:Optimal\n",
            "\n",
            "Optimal Assignment Plan\n",
            "Quantity                        Inventory\n",
            "------------------------------- ------------------------------\n",
            "Quantity_('A',_1)    100.0      Inventory_('A',_1)   0.0\n",
            "Quantity_('A',_2)    110.0      Inventory_('A',_2)   0.0\n",
            "Quantity_('A',_3)    120.0      Inventory_('A',_3)   0.0\n",
            "Quantity_('A',_4)    130.0      Inventory_('A',_4)   0.0\n",
            "Quantity_('B',_1)    80.0       Inventory_('B',_1)   0.0\n",
            "Quantity_('B',_2)    90.0       Inventory_('B',_2)   0.0\n",
            "Quantity_('B',_3)    100.0      Inventory_('B',_3)   0.0\n",
            "Quantity_('B',_4)    110.0      Inventory_('B',_4)   0.0\n",
            "Quantity_('C',_1)    182.0      Inventory_('C',_1)   62.0\n",
            "Quantity_('C',_2)    201.0      Inventory_('C',_2)   133.0\n",
            "Quantity_('C',_3)    126.0      Inventory_('C',_3)   119.0\n",
            "Quantity_('C',_4)    51.0       Inventory_('C',_4)   0.0\n",
            "\n",
            "Total Cost = £ 26357.0\n"
          ]
        }
      ]
    },
    {
      "cell_type": "markdown",
      "source": [
        "##Question D"
      ],
      "metadata": {
        "id": "cewYXg179aNM"
      }
    },
    {
      "cell_type": "code",
      "source": [
        "# Define Environment & Direction of Optimization\n",
        "model = LpProblem(\"Q1\", sense=LpMinimize)\n",
        "\n",
        "# List of Product\n",
        "product = ['A', 'B', 'C']\n",
        "\n",
        "# List (TimePeriods)\n",
        "month = [0,1,2,3,4]\n",
        "\n",
        "# Parameters and Data\n",
        "A_demand = {1:100, 2:110, 3:120, 4:130} # Demand data per time period\n",
        "B_demand = {1:80, 2:90, 3:100, 4:110} # Demand data per time period\n",
        "C_demand = {1:120, 2:130, 3:140, 4:150} # Demand data per time period\n",
        "UPC = {'A':20, 'B':30, 'C':10} # Unit Production Cost per time period\n",
        "UHC = {'A':1, 'B':2, 'C':0.5} # Unit Holding Cost per time period\n",
        "UPH = {'A':1.2, 'B':1.3, 'C':1} # Production hour per unit\n",
        "TPC = {1:500, 2:450, 3:400, 4:350} # Production Capacity per time period\n",
        "\n",
        "# Desicion Variables\n",
        "Pt = LpVariable.dicts(\"Quantity\", [(i,j) for i in product for j in month], lowBound=0, cat='Integer')\n",
        "It = LpVariable.dicts(\"Inventory\", [(i,j) for i in product for j in month], lowBound=0, cat='Integer')\n",
        "\n",
        "# Objective Function\n",
        "model += (lpSum(UPC[i]*Pt[i,j] for i in product for j in month) + lpSum(UHC[i]*It[i,j] for i in product for j in month))\n",
        "# Constraints\n",
        "for i in product:\n",
        "    model += It[i,0] == 0\n",
        "\n",
        "for j in month[1:]:\n",
        "    model += (Pt['A', j] + It['A', j-1] - It['A', j]) == A_demand[j] # A_Inventory-Balancing Constraints\n",
        "    model += (Pt['B', j] + It['B', j-1] - It['B', j]) == B_demand[j] # B_Inventory-Balancing Constraints\n",
        "    model += (Pt['C', j] + It['C', j-1] - It['C', j]) == C_demand[j] # C_Inventory-Balancing Constraints\n",
        "    model += lpSum(UPH[i] * Pt[i,j] for i in product) <= TPC[j] # Production Hour Capacity Constraints\n",
        "\n",
        "model += lpSum(UHC[i]*It[i,j] for i in product for j in month) <= 500 # Inventory Holding Cost Barrier\n",
        "\n",
        "for i in product:\n",
        "    model += It[i,4] == 0\n",
        "\n",
        "# Solve the Problem\n",
        "model.writeLP(\"Q1.lp\")\n",
        "model.solve()\n",
        "\n",
        "# The Status of the Solution\n",
        "print(\"Model Status:{}\".format(LpStatus[model.status]))\n",
        "\n",
        "# To Display Optimal Decision Variables & Reduced Cost per Variable\n",
        "for v in model.variables():\n",
        "\t  print(v.name, \"=\", v.varValue)\n",
        "\n",
        "# To Display Optimal Value of Objective Function\n",
        "print(\"Objective=\", value(model.objective))"
      ],
      "metadata": {
        "colab": {
          "base_uri": "https://localhost:8080/"
        },
        "id": "bK7-sp-B9X3f",
        "outputId": "d8b367a9-4237-41fe-8ae8-81e62018e8be"
      },
      "execution_count": null,
      "outputs": [
        {
          "output_type": "stream",
          "name": "stdout",
          "text": [
            "Model Status:Optimal\n",
            "Inventory_('A',_0) = 0.0\n",
            "Inventory_('A',_1) = 0.0\n",
            "Inventory_('A',_2) = 0.0\n",
            "Inventory_('A',_3) = 0.0\n",
            "Inventory_('A',_4) = 0.0\n",
            "Inventory_('B',_0) = 0.0\n",
            "Inventory_('B',_1) = 0.0\n",
            "Inventory_('B',_2) = 0.0\n",
            "Inventory_('B',_3) = 0.0\n",
            "Inventory_('B',_4) = 0.0\n",
            "Inventory_('C',_0) = 0.0\n",
            "Inventory_('C',_1) = 42.0\n",
            "Inventory_('C',_2) = 113.0\n",
            "Inventory_('C',_3) = 99.0\n",
            "Inventory_('C',_4) = 0.0\n",
            "Quantity_('A',_0) = 0.0\n",
            "Quantity_('A',_1) = 100.0\n",
            "Quantity_('A',_2) = 110.0\n",
            "Quantity_('A',_3) = 120.0\n",
            "Quantity_('A',_4) = 130.0\n",
            "Quantity_('B',_0) = 0.0\n",
            "Quantity_('B',_1) = 80.0\n",
            "Quantity_('B',_2) = 90.0\n",
            "Quantity_('B',_3) = 100.0\n",
            "Quantity_('B',_4) = 110.0\n",
            "Quantity_('C',_0) = 0.0\n",
            "Quantity_('C',_1) = 162.0\n",
            "Quantity_('C',_2) = 201.0\n",
            "Quantity_('C',_3) = 126.0\n",
            "Quantity_('C',_4) = 51.0\n",
            "Objective= 26127.0\n"
          ]
        }
      ]
    },
    {
      "cell_type": "code",
      "source": [
        "from pulp import LpStatus, value\n",
        "\n",
        "# The Status of the Solution\n",
        "print(\"Model Status:{}\".format(LpStatus[model.status]))\n",
        "\n",
        "# Initialize dictionaries to store inventory and quantity values\n",
        "inventory_values = {}\n",
        "quantity_values = {}\n",
        "\n",
        "# Store Optimal Decision Variables\n",
        "for v in model.variables():\n",
        "    if \"_0\" not in v.name:\n",
        "        if \"Inventory\" in v.name:\n",
        "            inventory_values[v.name] = v.varValue\n",
        "        elif \"Quantity\" in v.name:\n",
        "            quantity_values[v.name] = v.varValue\n",
        "\n",
        "# Extract keys for quantities and inventories\n",
        "quantity_keys = sorted(quantity_values.keys())\n",
        "inventory_keys = sorted(inventory_values.keys())\n",
        "\n",
        "# Print the results in separate columns for quantities and inventories\n",
        "print(\"\\nOptimal Assignment Plan\")\n",
        "print(f\"{'Quantity':<31} {'Inventory'}\")\n",
        "print(f\"{'-'*31} {'-'*30}\")\n",
        "\n",
        "max_len = max(len(quantity_keys), len(inventory_keys))\n",
        "\n",
        "# Print the table with Quantity and Inventory in separate columns\n",
        "for i in range(max_len):\n",
        "    quantity_key = quantity_keys[i] if i < len(quantity_keys) else \"\"\n",
        "    inventory_key = inventory_keys[i] if i < len(inventory_keys) else \"\"\n",
        "\n",
        "    quantity_value = quantity_values.get(quantity_key, \"\")\n",
        "    inventory_value = inventory_values.get(inventory_key, \"\")\n",
        "\n",
        "    print(f\"{quantity_key:<20} {quantity_value:<10} {inventory_key:<20} {inventory_value}\")\n",
        "\n",
        "# Display Optimal Value of Objective Function\n",
        "print(\"\\nTotal Cost = £\", value(model.objective))\n"
      ],
      "metadata": {
        "colab": {
          "base_uri": "https://localhost:8080/"
        },
        "id": "Bue1U31oW7fe",
        "outputId": "371ffa44-9bf8-4be0-b66e-cd9aba2d1600"
      },
      "execution_count": null,
      "outputs": [
        {
          "output_type": "stream",
          "name": "stdout",
          "text": [
            "Model Status:Optimal\n",
            "\n",
            "Optimal Assignment Plan\n",
            "Quantity                        Inventory\n",
            "------------------------------- ------------------------------\n",
            "Quantity_('A',_1)    100.0      Inventory_('A',_1)   0.0\n",
            "Quantity_('A',_2)    110.0      Inventory_('A',_2)   0.0\n",
            "Quantity_('A',_3)    120.0      Inventory_('A',_3)   0.0\n",
            "Quantity_('A',_4)    130.0      Inventory_('A',_4)   0.0\n",
            "Quantity_('B',_1)    80.0       Inventory_('B',_1)   0.0\n",
            "Quantity_('B',_2)    90.0       Inventory_('B',_2)   0.0\n",
            "Quantity_('B',_3)    100.0      Inventory_('B',_3)   0.0\n",
            "Quantity_('B',_4)    110.0      Inventory_('B',_4)   0.0\n",
            "Quantity_('C',_1)    162.0      Inventory_('C',_1)   42.0\n",
            "Quantity_('C',_2)    201.0      Inventory_('C',_2)   113.0\n",
            "Quantity_('C',_3)    126.0      Inventory_('C',_3)   99.0\n",
            "Quantity_('C',_4)    51.0       Inventory_('C',_4)   0.0\n",
            "\n",
            "Total Cost = £ 26127.0\n"
          ]
        }
      ]
    }
  ]
}
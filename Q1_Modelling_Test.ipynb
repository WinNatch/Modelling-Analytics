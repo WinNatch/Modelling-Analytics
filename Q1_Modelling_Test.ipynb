{
  "nbformat": 4,
  "nbformat_minor": 0,
  "metadata": {
    "colab": {
      "provenance": [],
      "authorship_tag": "ABX9TyN93MO5k7L6M13a05YaMJo1",
      "include_colab_link": true
    },
    "kernelspec": {
      "name": "python3",
      "display_name": "Python 3"
    },
    "language_info": {
      "name": "python"
    }
  },
  "cells": [
    {
      "cell_type": "markdown",
      "metadata": {
        "id": "view-in-github",
        "colab_type": "text"
      },
      "source": [
        "<a href=\"https://colab.research.google.com/github/WinNatch/Modelling-Individual-Ass/blob/main/Q1_Modelling_Test.ipynb\" target=\"_parent\"><img src=\"https://colab.research.google.com/assets/colab-badge.svg\" alt=\"Open In Colab\"/></a>"
      ]
    },
    {
      "cell_type": "code",
      "source": [
        "# Intall and Import Package/Library\n",
        "!pip install pulp\n",
        "from pulp import *"
      ],
      "metadata": {
        "colab": {
          "base_uri": "https://localhost:8080/"
        },
        "id": "SyVyOSowk2oM",
        "outputId": "98c0f3dd-6623-4115-dd72-db5618c16115"
      },
      "execution_count": 11,
      "outputs": [
        {
          "output_type": "stream",
          "name": "stdout",
          "text": [
            "Requirement already satisfied: pulp in /usr/local/lib/python3.10/dist-packages (2.9.0)\n"
          ]
        }
      ]
    },
    {
      "cell_type": "markdown",
      "source": [
        "##Question A"
      ],
      "metadata": {
        "id": "_M1bGKML6wNj"
      }
    },
    {
      "cell_type": "code",
      "execution_count": 50,
      "metadata": {
        "colab": {
          "base_uri": "https://localhost:8080/"
        },
        "id": "gQG95agXegwH",
        "outputId": "5d6a7a53-b55b-4651-ed33-b9987c3453d0"
      },
      "outputs": [
        {
          "output_type": "stream",
          "name": "stdout",
          "text": [
            "Model Status:Optimal\n",
            "Inventory_('A',_0) = 0.0\n",
            "Inventory_('A',_1) = 0.0\n",
            "Inventory_('A',_2) = 0.0\n",
            "Inventory_('A',_3) = 0.0\n",
            "Inventory_('A',_4) = 0.0\n",
            "Inventory_('B',_0) = 0.0\n",
            "Inventory_('B',_1) = 0.0\n",
            "Inventory_('B',_2) = 0.0\n",
            "Inventory_('B',_3) = 0.0\n",
            "Inventory_('B',_4) = 0.0\n",
            "Inventory_('C',_0) = 0.0\n",
            "Inventory_('C',_1) = 42.0\n",
            "Inventory_('C',_2) = 113.0\n",
            "Inventory_('C',_3) = 99.0\n",
            "Inventory_('C',_4) = 0.0\n",
            "Quantity_('A',_0) = 0.0\n",
            "Quantity_('A',_1) = 100.0\n",
            "Quantity_('A',_2) = 110.0\n",
            "Quantity_('A',_3) = 120.0\n",
            "Quantity_('A',_4) = 130.0\n",
            "Quantity_('B',_0) = 0.0\n",
            "Quantity_('B',_1) = 80.0\n",
            "Quantity_('B',_2) = 90.0\n",
            "Quantity_('B',_3) = 100.0\n",
            "Quantity_('B',_4) = 110.0\n",
            "Quantity_('C',_0) = 0.0\n",
            "Quantity_('C',_1) = 162.0\n",
            "Quantity_('C',_2) = 201.0\n",
            "Quantity_('C',_3) = 126.0\n",
            "Quantity_('C',_4) = 51.0\n",
            "Objective= 26127.0\n"
          ]
        }
      ],
      "source": [
        "# Define Environment & Direction of Optimization\n",
        "model = LpProblem(\"Q1\", sense=LpMinimize)\n",
        "\n",
        "# List of Product\n",
        "product = ['A', 'B', 'C']\n",
        "\n",
        "# List (TimePeriods)\n",
        "month = [0,1,2,3,4]\n",
        "\n",
        "# Parameters and Data\n",
        "A_demand = {1:100, 2:110, 3:120, 4:130} # Demand data per time period\n",
        "B_demand = {1:80, 2:90, 3:100, 4:110} # Demand data per time period\n",
        "C_demand = {1:120, 2:130, 3:140, 4:150} # Demand data per time period\n",
        "UPC = {'A':20, 'B':30, 'C':10} # Unit Production Cost per time period\n",
        "UHC = {'A':1, 'B':2, 'C':0.5} # Unit Holding Cost per time period\n",
        "UPH = {'A':1.2, 'B':1.3, 'C':1} # Production hour per unit\n",
        "TPC = {1:500, 2:450, 3:400, 4:350} # Production Capacity per time period\n",
        "\n",
        "# Desicion Variables\n",
        "Pt = LpVariable.dicts(\"Quantity\", [(i,j) for i in product for j in month], lowBound=0, cat='Integer')\n",
        "It = LpVariable.dicts(\"Inventory\", [(i,j) for i in product for j in month], lowBound=0, cat='Integer')\n",
        "\n",
        "# Objective Function\n",
        "model += (lpSum(UPC[i]*Pt[i,j] for i in product for j in month) + lpSum(UHC[i]*It[i,j] for i in product for j in month))\n",
        "\n",
        "# Constraints\n",
        "for i in product:\n",
        "    model += It[i,0] == 0\n",
        "\n",
        "for j in month[1:]:\n",
        "    model += (Pt['A', j] + It['A', j-1] - It['A', j]) == A_demand[j] # A_Inventory-Balancing Constraints\n",
        "    model += (Pt['B', j] + It['B', j-1] - It['B', j]) == B_demand[j] # B_Inventory-Balancing Constraints\n",
        "    model += (Pt['C', j] + It['C', j-1] - It['C', j]) == C_demand[j] # C_Inventory-Balancing Constraints\n",
        "    model += lpSum(UPH[i] * Pt[i,j] for i in product) <= TPC[j] # Production Hour Capacity Constraints\n",
        "\n",
        "for i in product:\n",
        "    model += It[i,4] == 0\n",
        "\n",
        "# Solve the Problem\n",
        "model.writeLP(\"Q1.lp\")\n",
        "model.solve()\n",
        "\n",
        "# The Status of the Solution\n",
        "print(\"Model Status:{}\".format(LpStatus[model.status]))\n",
        "\n",
        "# To Display Optimal Decision Variables & Reduced Cost per Variable\n",
        "for v in model.variables():\n",
        "\t  print(v.name, \"=\", v.varValue)\n",
        "\n",
        "# To Display Optimal Value of Objective Function\n",
        "print(\"Objective=\", value(model.objective))"
      ]
    },
    {
      "cell_type": "markdown",
      "source": [
        "##Question B"
      ],
      "metadata": {
        "id": "wyaANncp620A"
      }
    },
    {
      "cell_type": "code",
      "source": [
        "# Define Environment & Direction of Optimization\n",
        "model = LpProblem(\"Q1\", sense=LpMinimize)\n",
        "\n",
        "# List of Product\n",
        "product = ['A', 'B', 'C']\n",
        "\n",
        "# List (TimePeriods)\n",
        "month = [0,1,2,3,4]\n",
        "\n",
        "# Parameters and Data\n",
        "A_demand = {1:100, 2:110, 3:120, 4:130} # Demand data per time period\n",
        "B_demand = {1:80, 2:90, 3:100, 4:110} # Demand data per time period\n",
        "C_demand = {1:120, 2:130, 3:140, 4:150} # Demand data per time period\n",
        "UPC = {'A':20, 'B':30, 'C':10} # Unit Production Cost per time period\n",
        "UHC = {'A':1, 'B':2, 'C':0.5} # Unit Holding Cost per time period\n",
        "UPH = {'A':1.2, 'B':1.3, 'C':1} # Production hour per unit\n",
        "TPC = {1:500, 2:450, 3:400, 4:350} # Production Capacity per time period\n",
        "\n",
        "# Desicion Variables\n",
        "Pt = LpVariable.dicts(\"Quantity\", [(i,j) for i in product for j in month], lowBound=0, cat='Integer')\n",
        "It = LpVariable.dicts(\"Inventory\", [(i,j) for i in product for j in month], lowBound=0, cat='Integer')\n",
        "\n",
        "# Objective Function\n",
        "model += (lpSum(UPC[i]*Pt[i,j] for i in product for j in month) + lpSum(UHC[i]*It[i,j] for i in product for j in month)) - (UPC['B']*Pt['B',3]) + (35*Pt['B',3])\n",
        "\n",
        "# Constraints\n",
        "for i in product:\n",
        "    model += It[i,0] == 0\n",
        "\n",
        "for j in month[1:]:\n",
        "    model += (Pt['A', j] + It['A', j-1] - It['A', j]) == A_demand[j] # A_Inventory-Balancing Constraints\n",
        "    model += (Pt['B', j] + It['B', j-1] - It['B', j]) == B_demand[j] # B_Inventory-Balancing Constraints\n",
        "    model += (Pt['C', j] + It['C', j-1] - It['C', j]) == C_demand[j] # C_Inventory-Balancing Constraints\n",
        "    model += lpSum(UPH[i] * Pt[i,j] for i in product) <= TPC[j] # Production Hour Capacity Constraints\n",
        "\n",
        "for i in product:\n",
        "    model += It[i,4] == 0\n",
        "\n",
        "# Solve the Problem\n",
        "model.writeLP(\"Q1.lp\")\n",
        "model.solve()\n",
        "\n",
        "# The Status of the Solution\n",
        "print(\"Model Status:{}\".format(LpStatus[model.status]))\n",
        "\n",
        "# To Display Optimal Decision Variables & Reduced Cost per Variable\n",
        "for v in model.variables():\n",
        "\t  print(v.name, \"=\", v.varValue)\n",
        "\n",
        "# To Display Optimal Value of Objective Function\n",
        "print(\"Objective=\", value(model.objective))"
      ],
      "metadata": {
        "colab": {
          "base_uri": "https://localhost:8080/"
        },
        "id": "Fn7eQzhz65jB",
        "outputId": "1e067441-51c0-4205-f513-772bf44b0d43"
      },
      "execution_count": 52,
      "outputs": [
        {
          "output_type": "stream",
          "name": "stdout",
          "text": [
            "Model Status:Optimal\n",
            "Inventory_('A',_0) = 0.0\n",
            "Inventory_('A',_1) = 0.0\n",
            "Inventory_('A',_2) = 0.0\n",
            "Inventory_('A',_3) = 0.0\n",
            "Inventory_('A',_4) = 0.0\n",
            "Inventory_('B',_0) = 0.0\n",
            "Inventory_('B',_1) = 0.0\n",
            "Inventory_('B',_2) = 100.0\n",
            "Inventory_('B',_3) = 0.0\n",
            "Inventory_('B',_4) = 0.0\n",
            "Inventory_('C',_0) = 0.0\n",
            "Inventory_('C',_1) = 59.0\n",
            "Inventory_('C',_2) = 0.0\n",
            "Inventory_('C',_3) = 99.0\n",
            "Inventory_('C',_4) = 0.0\n",
            "Quantity_('A',_0) = 0.0\n",
            "Quantity_('A',_1) = 100.0\n",
            "Quantity_('A',_2) = 110.0\n",
            "Quantity_('A',_3) = 120.0\n",
            "Quantity_('A',_4) = 130.0\n",
            "Quantity_('B',_0) = 0.0\n",
            "Quantity_('B',_1) = 80.0\n",
            "Quantity_('B',_2) = 190.0\n",
            "Quantity_('B',_3) = 0.0\n",
            "Quantity_('B',_4) = 110.0\n",
            "Quantity_('C',_0) = 0.0\n",
            "Quantity_('C',_1) = 179.0\n",
            "Quantity_('C',_2) = 71.0\n",
            "Quantity_('C',_3) = 239.0\n",
            "Quantity_('C',_4) = 51.0\n",
            "Objective= 26279.0\n"
          ]
        }
      ]
    },
    {
      "cell_type": "markdown",
      "source": [
        "##Question C"
      ],
      "metadata": {
        "id": "svYFg4oO8o40"
      }
    },
    {
      "cell_type": "code",
      "source": [
        "# Define Environment & Direction of Optimization\n",
        "model = LpProblem(\"Q1\", sense=LpMinimize)\n",
        "\n",
        "# List of Product\n",
        "product = ['A', 'B', 'C']\n",
        "\n",
        "# List (TimePeriods)\n",
        "month = [0,1,2,3,4]\n",
        "\n",
        "# Parameters and Data\n",
        "A_demand = {1:100, 2:110, 3:120, 4:130} # Demand data per time period\n",
        "B_demand = {1:80, 2:90, 3:100, 4:110} # Demand data per time period\n",
        "C_demand = {1:120, 2:130, 3:140, 4:170} # Demand data per time period\n",
        "UPC = {'A':20, 'B':30, 'C':10} # Unit Production Cost per time period\n",
        "UHC = {'A':1, 'B':2, 'C':0.5} # Unit Holding Cost per time period\n",
        "UPH = {'A':1.2, 'B':1.3, 'C':1} # Production hour per unit\n",
        "TPC = {1:500, 2:450, 3:400, 4:350} # Production Capacity per time period\n",
        "\n",
        "# Desicion Variables\n",
        "Pt = LpVariable.dicts(\"Quantity\", [(i,j) for i in product for j in month], lowBound=0, cat='Integer')\n",
        "It = LpVariable.dicts(\"Inventory\", [(i,j) for i in product for j in month], lowBound=0, cat='Integer')\n",
        "\n",
        "# Objective Function\n",
        "model += (lpSum(UPC[i]*Pt[i,j] for i in product for j in month) + lpSum(UHC[i]*It[i,j] for i in product for j in month))\n",
        "\n",
        "# Constraints\n",
        "for i in product:\n",
        "    model += It[i,0] == 0\n",
        "\n",
        "for j in month[1:]:\n",
        "    model += (Pt['A', j] + It['A', j-1] - It['A', j]) == A_demand[j] # A_Inventory-Balancing Constraints\n",
        "    model += (Pt['B', j] + It['B', j-1] - It['B', j]) == B_demand[j] # B_Inventory-Balancing Constraints\n",
        "    model += (Pt['C', j] + It['C', j-1] - It['C', j]) == C_demand[j] # C_Inventory-Balancing Constraints\n",
        "    model += lpSum(UPH[i] * Pt[i,j] for i in product) <= TPC[j] # Production Hour Capacity Constraints\n",
        "\n",
        "for i in product:\n",
        "    model += It[i,4] == 0\n",
        "\n",
        "# Solve the Problem\n",
        "model.writeLP(\"Q1.lp\")\n",
        "model.solve()\n",
        "\n",
        "# The Status of the Solution\n",
        "print(\"Model Status:{}\".format(LpStatus[model.status]))\n",
        "\n",
        "# To Display Optimal Decision Variables & Reduced Cost per Variable\n",
        "for v in model.variables():\n",
        "\t  print(v.name, \"=\", v.varValue)\n",
        "\n",
        "# To Display Optimal Value of Objective Function\n",
        "print(\"Objective=\", value(model.objective))"
      ],
      "metadata": {
        "colab": {
          "base_uri": "https://localhost:8080/"
        },
        "id": "KNBV_55K8t9v",
        "outputId": "e471efa7-c80d-4419-c027-4a14f6e6c9e2"
      },
      "execution_count": 53,
      "outputs": [
        {
          "output_type": "stream",
          "name": "stdout",
          "text": [
            "Model Status:Optimal\n",
            "Inventory_('A',_0) = 0.0\n",
            "Inventory_('A',_1) = 0.0\n",
            "Inventory_('A',_2) = 0.0\n",
            "Inventory_('A',_3) = 0.0\n",
            "Inventory_('A',_4) = 0.0\n",
            "Inventory_('B',_0) = 0.0\n",
            "Inventory_('B',_1) = 0.0\n",
            "Inventory_('B',_2) = 0.0\n",
            "Inventory_('B',_3) = 0.0\n",
            "Inventory_('B',_4) = 0.0\n",
            "Inventory_('C',_0) = 0.0\n",
            "Inventory_('C',_1) = 62.0\n",
            "Inventory_('C',_2) = 133.0\n",
            "Inventory_('C',_3) = 119.0\n",
            "Inventory_('C',_4) = 0.0\n",
            "Quantity_('A',_0) = 0.0\n",
            "Quantity_('A',_1) = 100.0\n",
            "Quantity_('A',_2) = 110.0\n",
            "Quantity_('A',_3) = 120.0\n",
            "Quantity_('A',_4) = 130.0\n",
            "Quantity_('B',_0) = 0.0\n",
            "Quantity_('B',_1) = 80.0\n",
            "Quantity_('B',_2) = 90.0\n",
            "Quantity_('B',_3) = 100.0\n",
            "Quantity_('B',_4) = 110.0\n",
            "Quantity_('C',_0) = 0.0\n",
            "Quantity_('C',_1) = 182.0\n",
            "Quantity_('C',_2) = 201.0\n",
            "Quantity_('C',_3) = 126.0\n",
            "Quantity_('C',_4) = 51.0\n",
            "Objective= 26357.0\n"
          ]
        }
      ]
    },
    {
      "cell_type": "markdown",
      "source": [
        "##Question D"
      ],
      "metadata": {
        "id": "cewYXg179aNM"
      }
    },
    {
      "cell_type": "code",
      "source": [
        "# Define Environment & Direction of Optimization\n",
        "model = LpProblem(\"Q1\", sense=LpMinimize)\n",
        "\n",
        "# List of Product\n",
        "product = ['A', 'B', 'C']\n",
        "\n",
        "# List (TimePeriods)\n",
        "month = [0,1,2,3,4]\n",
        "\n",
        "# Parameters and Data\n",
        "A_demand = {1:100, 2:110, 3:120, 4:130} # Demand data per time period\n",
        "B_demand = {1:80, 2:90, 3:100, 4:110} # Demand data per time period\n",
        "C_demand = {1:120, 2:130, 3:140, 4:150} # Demand data per time period\n",
        "UPC = {'A':20, 'B':30, 'C':10} # Unit Production Cost per time period\n",
        "UHC = {'A':1, 'B':2, 'C':0.5} # Unit Holding Cost per time period\n",
        "UPH = {'A':1.2, 'B':1.3, 'C':1} # Production hour per unit\n",
        "TPC = {1:500, 2:450, 3:400, 4:350} # Production Capacity per time period\n",
        "\n",
        "# Desicion Variables\n",
        "Pt = LpVariable.dicts(\"Quantity\", [(i,j) for i in product for j in month], lowBound=0, cat='Integer')\n",
        "It = LpVariable.dicts(\"Inventory\", [(i,j) for i in product for j in month], lowBound=0, cat='Integer')\n",
        "\n",
        "# Objective Function\n",
        "model += (lpSum(UPC[i]*Pt[i,j] for i in product for j in month) + lpSum(UHC[i]*It[i,j] for i in product for j in month))\n",
        "# Constraints\n",
        "for i in product:\n",
        "    model += It[i,0] == 0\n",
        "\n",
        "for j in month[1:]:\n",
        "    model += (Pt['A', j] + It['A', j-1] - It['A', j]) == A_demand[j] # A_Inventory-Balancing Constraints\n",
        "    model += (Pt['B', j] + It['B', j-1] - It['B', j]) == B_demand[j] # B_Inventory-Balancing Constraints\n",
        "    model += (Pt['C', j] + It['C', j-1] - It['C', j]) == C_demand[j] # C_Inventory-Balancing Constraints\n",
        "    model += lpSum(UPH[i] * Pt[i,j] for i in product) <= TPC[j] # Production Hour Capacity Constraints\n",
        "\n",
        "model += lpSum(UHC[i]*It[i,j] for i in product for j in month) <= 500\n",
        "\n",
        "for i in product:\n",
        "    model += It[i,4] == 0\n",
        "\n",
        "# Solve the Problem\n",
        "model.writeLP(\"Q1.lp\")\n",
        "model.solve()\n",
        "\n",
        "# The Status of the Solution\n",
        "print(\"Model Status:{}\".format(LpStatus[model.status]))\n",
        "\n",
        "# To Display Optimal Decision Variables & Reduced Cost per Variable\n",
        "for v in model.variables():\n",
        "\t  print(v.name, \"=\", v.varValue)\n",
        "\n",
        "# To Display Optimal Value of Objective Function\n",
        "print(\"Objective=\", value(model.objective))"
      ],
      "metadata": {
        "colab": {
          "base_uri": "https://localhost:8080/"
        },
        "id": "bK7-sp-B9X3f",
        "outputId": "ef41f7a1-88ab-4af6-ddc1-804b026ff4e0"
      },
      "execution_count": 56,
      "outputs": [
        {
          "output_type": "stream",
          "name": "stdout",
          "text": [
            "Model Status:Optimal\n",
            "Inventory_('A',_0) = 0.0\n",
            "Inventory_('A',_1) = 0.0\n",
            "Inventory_('A',_2) = 0.0\n",
            "Inventory_('A',_3) = 0.0\n",
            "Inventory_('A',_4) = 0.0\n",
            "Inventory_('B',_0) = 0.0\n",
            "Inventory_('B',_1) = 0.0\n",
            "Inventory_('B',_2) = 0.0\n",
            "Inventory_('B',_3) = 0.0\n",
            "Inventory_('B',_4) = 0.0\n",
            "Inventory_('C',_0) = 0.0\n",
            "Inventory_('C',_1) = 42.0\n",
            "Inventory_('C',_2) = 113.0\n",
            "Inventory_('C',_3) = 99.0\n",
            "Inventory_('C',_4) = 0.0\n",
            "Quantity_('A',_0) = 0.0\n",
            "Quantity_('A',_1) = 100.0\n",
            "Quantity_('A',_2) = 110.0\n",
            "Quantity_('A',_3) = 120.0\n",
            "Quantity_('A',_4) = 130.0\n",
            "Quantity_('B',_0) = 0.0\n",
            "Quantity_('B',_1) = 80.0\n",
            "Quantity_('B',_2) = 90.0\n",
            "Quantity_('B',_3) = 100.0\n",
            "Quantity_('B',_4) = 110.0\n",
            "Quantity_('C',_0) = 0.0\n",
            "Quantity_('C',_1) = 162.0\n",
            "Quantity_('C',_2) = 201.0\n",
            "Quantity_('C',_3) = 126.0\n",
            "Quantity_('C',_4) = 51.0\n",
            "Objective= 26127.0\n"
          ]
        }
      ]
    }
  ]
}
{
  "nbformat": 4,
  "nbformat_minor": 0,
  "metadata": {
    "colab": {
      "provenance": [],
      "authorship_tag": "ABX9TyO8NMMvByLSNvFYVb6eB0LR",
      "include_colab_link": true
    },
    "kernelspec": {
      "name": "python3",
      "display_name": "Python 3"
    },
    "language_info": {
      "name": "python"
    }
  },
  "cells": [
    {
      "cell_type": "markdown",
      "metadata": {
        "id": "view-in-github",
        "colab_type": "text"
      },
      "source": [
        "<a href=\"https://colab.research.google.com/github/WinNatch/Modelling-Individual-Assessment/blob/main/Q4_Individual_Assessment.ipynb\" target=\"_parent\"><img src=\"https://colab.research.google.com/assets/colab-badge.svg\" alt=\"Open In Colab\"/></a>"
      ]
    },
    {
      "cell_type": "code",
      "execution_count": null,
      "metadata": {
        "colab": {
          "base_uri": "https://localhost:8080/"
        },
        "id": "tk2Iza_dxV09",
        "outputId": "48039134-e153-4a4e-de86-6a7b564e7b9b"
      },
      "outputs": [
        {
          "output_type": "stream",
          "name": "stdout",
          "text": [
            "Requirement already satisfied: pulp in /usr/local/lib/python3.10/dist-packages (2.9.0)\n"
          ]
        }
      ],
      "source": [
        "# Intall and Import Package/Library\n",
        "!pip install pulp\n",
        "from pulp import *"
      ]
    },
    {
      "cell_type": "markdown",
      "source": [
        "##Question A"
      ],
      "metadata": {
        "id": "hOuMysb15DoN"
      }
    },
    {
      "cell_type": "code",
      "source": [
        "prob = LpProblem(\"Q4\", sense=LpMinimize)\n",
        "\n",
        "P_Centre = ['A', 'B', 'C', 'D']\n",
        "supply = {'A': 70, 'B': 90, 'C': 80, 'D': 60}\n",
        "\n",
        "Warehouse = [1, 2, 3]\n",
        "\n",
        "D_Centre = [1, 2, 3, 4, 5, 6]\n",
        "demand = {1: 50, 2: 40, 3: 60, 4: 70, 5: 50, 6: 30}\n",
        "\n",
        "C1 = [[4, 3, 5], [6, 2, 4], [5, 4, 3], [7, 5, 6]]\n",
        "C2 = [[3, 2, 5, 4, 6, 7], [1, 4, 2, 3, 5, 6], [5, 3, 4, 2, 3, 4]]\n",
        "\n",
        "costs_1 = makeDict([P_Centre, Warehouse], C1)\n",
        "costs_2 = makeDict([Warehouse, D_Centre], C2)\n",
        "\n",
        "vars_1 = LpVariable.dicts(\"1st_Route\", (P_Centre, Warehouse), lowBound=0, cat='Integer')\n",
        "vars_2 = LpVariable.dicts(\"2nd_Route\", (Warehouse, D_Centre), lowBound=0, cat='Integer')\n",
        "\n",
        "prob += lpSum([vars_1[i][j] * costs_1[i][j] for i in P_Centre for j in Warehouse]) + \\\n",
        "        lpSum([vars_2[j][k] * costs_2[j][k] for j in Warehouse for k in D_Centre]), \"Total_Cost\"\n",
        "\n",
        "for i in P_Centre:\n",
        "    prob += lpSum([vars_1[i][j] for j in Warehouse]) == supply[i], f\"Supply_{i}\"\n",
        "\n",
        "for k in D_Centre:\n",
        "    prob += lpSum([vars_2[j][k] for j in Warehouse]) == demand[k], f\"Demand_{k}\"\n",
        "\n",
        "for j in Warehouse:\n",
        "    prob += lpSum([vars_1[i][j] for i in P_Centre]) == lpSum([vars_2[j][k] for k in D_Centre]), f\"Warehouse_{j}\"\n",
        "\n",
        "prob.solve()\n",
        "\n",
        "print(\"Optimal_Assignment_Plan\")\n",
        "for v in prob.variables():\n",
        "    print(v.name, \"=\", v.varValue)\n",
        "\n",
        "print(\"Value of Objective Function =\", value(prob.objective))"
      ],
      "metadata": {
        "colab": {
          "base_uri": "https://localhost:8080/"
        },
        "id": "Lrku7tbjzMIl",
        "outputId": "ba892c85-989d-449a-eca8-fb17872e4603"
      },
      "execution_count": null,
      "outputs": [
        {
          "output_type": "stream",
          "name": "stdout",
          "text": [
            "Optimal_Assignment_Plan\n",
            "1st_Route_A_1 = 40.0\n",
            "1st_Route_A_2 = 30.0\n",
            "1st_Route_A_3 = 0.0\n",
            "1st_Route_B_1 = 0.0\n",
            "1st_Route_B_2 = 90.0\n",
            "1st_Route_B_3 = 0.0\n",
            "1st_Route_C_1 = 0.0\n",
            "1st_Route_C_2 = 0.0\n",
            "1st_Route_C_3 = 80.0\n",
            "1st_Route_D_1 = 0.0\n",
            "1st_Route_D_2 = 60.0\n",
            "1st_Route_D_3 = 0.0\n",
            "2nd_Route_1_1 = 0.0\n",
            "2nd_Route_1_2 = 40.0\n",
            "2nd_Route_1_3 = 0.0\n",
            "2nd_Route_1_4 = 0.0\n",
            "2nd_Route_1_5 = 0.0\n",
            "2nd_Route_1_6 = 0.0\n",
            "2nd_Route_2_1 = 50.0\n",
            "2nd_Route_2_2 = 0.0\n",
            "2nd_Route_2_3 = 60.0\n",
            "2nd_Route_2_4 = 70.0\n",
            "2nd_Route_2_5 = 0.0\n",
            "2nd_Route_2_6 = 0.0\n",
            "2nd_Route_3_1 = 0.0\n",
            "2nd_Route_3_2 = 0.0\n",
            "2nd_Route_3_3 = 0.0\n",
            "2nd_Route_3_4 = 0.0\n",
            "2nd_Route_3_5 = 50.0\n",
            "2nd_Route_3_6 = 30.0\n",
            "Value of Objective Function = 1700.0\n"
          ]
        }
      ]
    },
    {
      "cell_type": "code",
      "source": [
        "from pulp import *\n",
        "\n",
        "# Define the problem\n",
        "prob = LpProblem(\"Q4\", sense=LpMinimize)\n",
        "\n",
        "# Define sets and data\n",
        "P_Centre = ['A', 'B', 'C', 'D']\n",
        "supply = {'A': 70, 'B': 90, 'C': 80, 'D': 60}\n",
        "\n",
        "Warehouse = [1, 2, 3]\n",
        "\n",
        "D_Centre = [1, 2, 3, 4, 5, 6]\n",
        "demand = {1: 50, 2: 40, 3: 60, 4: 70, 5: 50, 6: 30}\n",
        "\n",
        "C1 = [[4, 3, 5], [6, 2, 4], [5, 4, 3], [7, 5, 6]]\n",
        "C2 = [[3, 2, 5, 4, 6, 7], [1, 4, 2, 3, 5, 6], [5, 3, 4, 2, 3, 4]]\n",
        "\n",
        "costs_1 = makeDict([P_Centre, Warehouse], C1)\n",
        "costs_2 = makeDict([Warehouse, D_Centre], C2)\n",
        "\n",
        "# Define decision variables\n",
        "vars_1 = LpVariable.dicts(\"1st_Route\", (P_Centre, Warehouse), lowBound=0, cat='Integer')\n",
        "vars_2 = LpVariable.dicts(\"2nd_Route\", (Warehouse, D_Centre), lowBound=0, cat='Integer')\n",
        "\n",
        "# Define the objective function\n",
        "prob += lpSum([vars_1[i][j] * costs_1[i][j] for i in P_Centre for j in Warehouse]) + \\\n",
        "        lpSum([vars_2[j][k] * costs_2[j][k] for j in Warehouse for k in D_Centre]), \"Total_Cost\"\n",
        "\n",
        "# Add constraints\n",
        "for i in P_Centre:\n",
        "    prob += lpSum([vars_1[i][j] for j in Warehouse]) == supply[i], f\"Supply_{i}\"\n",
        "\n",
        "for k in D_Centre:\n",
        "    prob += lpSum([vars_2[j][k] for j in Warehouse]) == demand[k], f\"Demand_{k}\"\n",
        "\n",
        "for j in Warehouse:\n",
        "    prob += lpSum([vars_1[i][j] for i in P_Centre]) == lpSum([vars_2[j][k] for k in D_Centre]), f\"Warehouse_{j}\"\n",
        "\n",
        "# Solve the problem\n",
        "prob.solve()\n",
        "\n",
        "# Print the results\n",
        "print(\"Value of Objective Function = \", value(prob.objective))\n",
        "print(\"\\nProduct Centre to Warehouse\")\n",
        "print(\"Quantity\")\n",
        "print(\"-\" * 26)\n",
        "for v in prob.variables():\n",
        "    if \"1st_Route\" in v.name:\n",
        "        print(v.name.ljust(20), str(v.varValue).ljust(15))\n",
        "\n",
        "print(\"\\nWarehouse to Distribution Centre\")\n",
        "print(\"Quantity\")\n",
        "print(\"-\" * 26)\n",
        "for v in prob.variables():\n",
        "    if \"2nd_Route\" in v.name:\n",
        "        print(v.name.ljust(20), str(v.varValue).ljust(15))"
      ],
      "metadata": {
        "colab": {
          "base_uri": "https://localhost:8080/"
        },
        "id": "JBrf51RXScGl",
        "outputId": "95cfb196-1da2-4f34-8a79-02b3b2a8237f"
      },
      "execution_count": null,
      "outputs": [
        {
          "output_type": "stream",
          "name": "stdout",
          "text": [
            "Value of Objective Function =  1700.0\n",
            "\n",
            "Product Centre to Warehouse\n",
            "Quantity\n",
            "--------------------------\n",
            "1st_Route_A_1        40.0           \n",
            "1st_Route_A_2        30.0           \n",
            "1st_Route_A_3        0.0            \n",
            "1st_Route_B_1        0.0            \n",
            "1st_Route_B_2        90.0           \n",
            "1st_Route_B_3        0.0            \n",
            "1st_Route_C_1        0.0            \n",
            "1st_Route_C_2        0.0            \n",
            "1st_Route_C_3        80.0           \n",
            "1st_Route_D_1        0.0            \n",
            "1st_Route_D_2        60.0           \n",
            "1st_Route_D_3        0.0            \n",
            "\n",
            "Warehouse to Distribution Centre\n",
            "Quantity\n",
            "--------------------------\n",
            "2nd_Route_1_1        0.0            \n",
            "2nd_Route_1_2        40.0           \n",
            "2nd_Route_1_3        0.0            \n",
            "2nd_Route_1_4        0.0            \n",
            "2nd_Route_1_5        0.0            \n",
            "2nd_Route_1_6        0.0            \n",
            "2nd_Route_2_1        50.0           \n",
            "2nd_Route_2_2        0.0            \n",
            "2nd_Route_2_3        60.0           \n",
            "2nd_Route_2_4        70.0           \n",
            "2nd_Route_2_5        0.0            \n",
            "2nd_Route_2_6        0.0            \n",
            "2nd_Route_3_1        0.0            \n",
            "2nd_Route_3_2        0.0            \n",
            "2nd_Route_3_3        0.0            \n",
            "2nd_Route_3_4        0.0            \n",
            "2nd_Route_3_5        50.0           \n",
            "2nd_Route_3_6        30.0           \n"
          ]
        }
      ]
    },
    {
      "cell_type": "markdown",
      "source": [
        "##Question B"
      ],
      "metadata": {
        "id": "coZ_TjYW4-s_"
      }
    },
    {
      "cell_type": "code",
      "source": [
        "prob = LpProblem(\"Q4.b\", sense=LpMinimize)\n",
        "\n",
        "P_Centre = ['A', 'B', 'C', 'D']\n",
        "supply = {'A': 70, 'B': 90, 'C': 80, 'D': 60}\n",
        "\n",
        "Warehouse = [1, 2, 3]\n",
        "\n",
        "D_Centre = [1, 2, 3, 4, 5, 6]\n",
        "demand = {1: 50, 2: 40, 3: 60, 4: 70, 5: 50, 6: 30}\n",
        "\n",
        "C1 = [[4, 3+1, 5], [6, 2+1, 4], [5, 4+1, 3], [7, 5+1, 6]]\n",
        "C2 = [[3, 2, 5, 4, 6, 7], [1+1, 4+1, 2+1, 3+1, 5+1, 6+1], [5, 3, 4, 2, 3, 4]]\n",
        "\n",
        "costs_1 = makeDict([P_Centre, Warehouse], C1)\n",
        "costs_2 = makeDict([Warehouse, D_Centre], C2)\n",
        "\n",
        "vars_1 = LpVariable.dicts(\"1st_Route\", (P_Centre, Warehouse), lowBound=0, cat='Integer')\n",
        "vars_2 = LpVariable.dicts(\"2nd_Route\", (Warehouse, D_Centre), lowBound=0, cat='Integer')\n",
        "\n",
        "prob += lpSum([vars_1[i][j] * costs_1[i][j] for i in P_Centre for j in Warehouse]) + \\\n",
        "        lpSum([vars_2[j][k] * costs_2[j][k] for j in Warehouse for k in D_Centre]), \"Total_Cost\"\n",
        "\n",
        "for i in P_Centre:\n",
        "    prob += lpSum([vars_1[i][j] for j in Warehouse]) == supply[i], f\"Supply_{i}\"\n",
        "\n",
        "for k in D_Centre:\n",
        "    prob += lpSum([vars_2[j][k] for j in Warehouse]) == demand[k], f\"Demand_{k}\"\n",
        "\n",
        "for j in Warehouse:\n",
        "    prob += lpSum([vars_1[i][j] for i in P_Centre]) == lpSum([vars_2[j][k] for k in D_Centre]), f\"Warehouse_{j}\"\n",
        "\n",
        "prob.solve()\n",
        "\n",
        "# Print the results\n",
        "print(\"Value of Objective Function = \", value(prob.objective))\n",
        "print(\"\\nProduct Centre to Warehouse\")\n",
        "print(\"Quantity\")\n",
        "print(\"-\" * 26)\n",
        "for v in prob.variables():\n",
        "    if \"1st_Route\" in v.name:\n",
        "        print(v.name.ljust(20), str(v.varValue).ljust(15))\n",
        "\n",
        "print(\"\\nWarehouse to Distribution Centre\")\n",
        "print(\"Quantity\")\n",
        "print(\"-\" * 26)\n",
        "for v in prob.variables():\n",
        "    if \"2nd_Route\" in v.name:\n",
        "        print(v.name.ljust(20), str(v.varValue).ljust(15))"
      ],
      "metadata": {
        "colab": {
          "base_uri": "https://localhost:8080/"
        },
        "id": "R_oMIAVP498V",
        "outputId": "7e10d9f4-3dce-4b38-ed36-22aef5ef8369"
      },
      "execution_count": null,
      "outputs": [
        {
          "output_type": "stream",
          "name": "stdout",
          "text": [
            "Value of Objective Function =  1930.0\n",
            "\n",
            "Product Centre to Warehouse\n",
            "Quantity\n",
            "--------------------------\n",
            "1st_Route_A_1        40.0           \n",
            "1st_Route_A_2        30.0           \n",
            "1st_Route_A_3        0.0            \n",
            "1st_Route_B_1        0.0            \n",
            "1st_Route_B_2        80.0           \n",
            "1st_Route_B_3        10.0           \n",
            "1st_Route_C_1        0.0            \n",
            "1st_Route_C_2        0.0            \n",
            "1st_Route_C_3        80.0           \n",
            "1st_Route_D_1        0.0            \n",
            "1st_Route_D_2        0.0            \n",
            "1st_Route_D_3        60.0           \n",
            "\n",
            "Warehouse to Distribution Centre\n",
            "Quantity\n",
            "--------------------------\n",
            "2nd_Route_1_1        0.0            \n",
            "2nd_Route_1_2        40.0           \n",
            "2nd_Route_1_3        0.0            \n",
            "2nd_Route_1_4        0.0            \n",
            "2nd_Route_1_5        0.0            \n",
            "2nd_Route_1_6        0.0            \n",
            "2nd_Route_2_1        50.0           \n",
            "2nd_Route_2_2        0.0            \n",
            "2nd_Route_2_3        60.0           \n",
            "2nd_Route_2_4        0.0            \n",
            "2nd_Route_2_5        0.0            \n",
            "2nd_Route_2_6        0.0            \n",
            "2nd_Route_3_1        0.0            \n",
            "2nd_Route_3_2        0.0            \n",
            "2nd_Route_3_3        0.0            \n",
            "2nd_Route_3_4        70.0           \n",
            "2nd_Route_3_5        50.0           \n",
            "2nd_Route_3_6        30.0           \n"
          ]
        }
      ]
    },
    {
      "cell_type": "markdown",
      "source": [
        "##Question C"
      ],
      "metadata": {
        "id": "FGy_Io3V6TGh"
      }
    },
    {
      "cell_type": "code",
      "source": [
        "prob = LpProblem(\"Q4\", sense=LpMinimize)\n",
        "\n",
        "P_Centre = ['A', 'B', 'C', 'D']\n",
        "supply = {'A': 70, 'B': 90, 'C': 80, 'D': 60}\n",
        "\n",
        "Warehouse = [1, 2, 3]\n",
        "\n",
        "D_Centre = [1, 2, 3, 4, 5, 6]\n",
        "demand = {1: 50, 2: 40, 3: 60, 4: 70, 5: 50, 6: 30}\n",
        "\n",
        "C1 = [[4, 3, 5], [6, 2, 4], [5, 4, 3], [7, 5, 6]]\n",
        "C2 = [[3, 2, 5, 4, 6, 7], [1, 4, 2, 3, 5, 6], [5, 3, 4, 2, 3, 4]]\n",
        "\n",
        "costs_1 = makeDict([P_Centre, Warehouse], C1)\n",
        "costs_2 = makeDict([Warehouse, D_Centre], C2)\n",
        "\n",
        "vars_1 = LpVariable.dicts(\"1st_Route\", (P_Centre, Warehouse), lowBound=0, cat='Integer')\n",
        "vars_2 = LpVariable.dicts(\"2nd_Route\", (Warehouse, D_Centre), lowBound=0, cat='Integer')\n",
        "\n",
        "prob += lpSum([vars_1[i][j] * costs_1[i][j] for i in P_Centre for j in Warehouse]) + \\\n",
        "        lpSum([vars_2[j][k] * costs_2[j][k] for j in Warehouse for k in D_Centre]), \"Total_Cost\"\n",
        "\n",
        "for i in P_Centre:\n",
        "    prob += lpSum([vars_1[i][j] for j in Warehouse]) == supply[i], f\"Supply_{i}\"\n",
        "\n",
        "for k in D_Centre:\n",
        "    prob += lpSum([vars_2[j][k] for j in Warehouse]) == demand[k], f\"Demand_{k}\"\n",
        "\n",
        "for j in Warehouse:\n",
        "    prob += lpSum([vars_1[i][j] for i in P_Centre]) == lpSum([vars_2[j][k] for k in D_Centre]), f\"Warehouse_{j}\"\n",
        "\n",
        "prob += lpSum([vars_1[i][1] for i in P_Centre]) <= 50, \"Warehouse_1 Capacity\" # New Constraint Added\n",
        "\n",
        "prob.solve()\n",
        "\n",
        "# Print the results\n",
        "print(\"Value of Objective Function = \", value(prob.objective))\n",
        "print(\"\\nProduct Centre to Warehouse\")\n",
        "print(\"Quantity\")\n",
        "print(\"-\" * 26)\n",
        "for v in prob.variables():\n",
        "    if \"1st_Route\" in v.name:\n",
        "        print(v.name.ljust(20), str(v.varValue).ljust(15))\n",
        "\n",
        "print(\"\\nWarehouse to Distribution Centre\")\n",
        "print(\"Quantity\")\n",
        "print(\"-\" * 26)\n",
        "for v in prob.variables():\n",
        "    if \"2nd_Route\" in v.name:\n",
        "        print(v.name.ljust(20), str(v.varValue).ljust(15))"
      ],
      "metadata": {
        "colab": {
          "base_uri": "https://localhost:8080/"
        },
        "id": "OEIhTxF96EO6",
        "outputId": "1fa4ef2c-30f1-4dd8-83dc-27238803d7e8"
      },
      "execution_count": null,
      "outputs": [
        {
          "output_type": "stream",
          "name": "stdout",
          "text": [
            "Value of Objective Function =  1700.0\n",
            "\n",
            "Product Centre to Warehouse\n",
            "Quantity\n",
            "--------------------------\n",
            "1st_Route_A_1        40.0           \n",
            "1st_Route_A_2        30.0           \n",
            "1st_Route_A_3        0.0            \n",
            "1st_Route_B_1        0.0            \n",
            "1st_Route_B_2        90.0           \n",
            "1st_Route_B_3        0.0            \n",
            "1st_Route_C_1        0.0            \n",
            "1st_Route_C_2        0.0            \n",
            "1st_Route_C_3        80.0           \n",
            "1st_Route_D_1        0.0            \n",
            "1st_Route_D_2        60.0           \n",
            "1st_Route_D_3        0.0            \n",
            "\n",
            "Warehouse to Distribution Centre\n",
            "Quantity\n",
            "--------------------------\n",
            "2nd_Route_1_1        0.0            \n",
            "2nd_Route_1_2        40.0           \n",
            "2nd_Route_1_3        0.0            \n",
            "2nd_Route_1_4        0.0            \n",
            "2nd_Route_1_5        0.0            \n",
            "2nd_Route_1_6        0.0            \n",
            "2nd_Route_2_1        50.0           \n",
            "2nd_Route_2_2        0.0            \n",
            "2nd_Route_2_3        60.0           \n",
            "2nd_Route_2_4        70.0           \n",
            "2nd_Route_2_5        0.0            \n",
            "2nd_Route_2_6        0.0            \n",
            "2nd_Route_3_1        0.0            \n",
            "2nd_Route_3_2        0.0            \n",
            "2nd_Route_3_3        0.0            \n",
            "2nd_Route_3_4        0.0            \n",
            "2nd_Route_3_5        50.0           \n",
            "2nd_Route_3_6        30.0           \n"
          ]
        }
      ]
    },
    {
      "cell_type": "markdown",
      "source": [
        "##Question D"
      ],
      "metadata": {
        "id": "HfkBpubl7P5i"
      }
    },
    {
      "cell_type": "code",
      "source": [
        "prob1 = LpProblem(\"Q4.d1\", sense=LpMinimize)\n",
        "\n",
        "P_Centre = ['A', 'B', 'C', 'D']\n",
        "supply = {'A': 70, 'B': 90, 'C': 80, 'D': 60}\n",
        "\n",
        "Warehouse = [1, 2, 3]\n",
        "\n",
        "D_Centre = [2, 3, 4, 5, 6]\n",
        "demand = {2: 40+10, 3: 60+10, 4: 70+10, 5: 50+10, 6: 30+10}\n",
        "\n",
        "C1 = [[4, 3, 5], [6, 2, 4], [5, 4, 3], [7, 5, 6]]\n",
        "C2 = [[2, 5, 4, 6, 7], [4, 2, 3, 5, 6], [3, 4, 2, 3, 4]]\n",
        "\n",
        "costs_1 = makeDict([P_Centre, Warehouse], C1)\n",
        "costs_2 = makeDict([Warehouse, D_Centre], C2)\n",
        "\n",
        "vars_1 = LpVariable.dicts(\"1st_Route\", (P_Centre, Warehouse), lowBound=0, cat='Integer')\n",
        "vars_2 = LpVariable.dicts(\"2nd_Route\", (Warehouse, D_Centre), lowBound=0, cat='Integer')\n",
        "\n",
        "prob1 += lpSum([vars_1[i][j] * costs_1[i][j] for i in P_Centre for j in Warehouse]) + \\\n",
        "        lpSum([vars_2[j][k] * costs_2[j][k] for j in Warehouse for k in D_Centre]), \"Total_Cost\"\n",
        "\n",
        "for i in P_Centre:\n",
        "    prob1 += lpSum([vars_1[i][j] for j in Warehouse]) == supply[i], f\"Supply_{i}\"\n",
        "\n",
        "for k in D_Centre:\n",
        "    prob1 += lpSum([vars_2[j][k] for j in Warehouse]) == demand[k], f\"Demand_{k}\"\n",
        "\n",
        "for j in Warehouse:\n",
        "    prob1 += lpSum([vars_1[i][j] for i in P_Centre]) == lpSum([vars_2[j][k] for k in D_Centre]), f\"Warehouse_{j}\"\n",
        "\n",
        "prob1.solve()\n",
        "\n",
        "print(\"Optimal_Assignment_Plan\")\n",
        "for v in prob1.variables():\n",
        "    print(v.name, \"=\", v.varValue)\n",
        "\n",
        "print(\"Value of Objective Function =\", value(prob1.objective))"
      ],
      "metadata": {
        "colab": {
          "base_uri": "https://localhost:8080/"
        },
        "id": "DTGMa_7u7UQD",
        "outputId": "b80df9aa-c50b-4003-a77b-1a2ea449de7b"
      },
      "execution_count": null,
      "outputs": [
        {
          "output_type": "stream",
          "name": "stdout",
          "text": [
            "Optimal_Assignment_Plan\n",
            "1st_Route_A_1 = 50.0\n",
            "1st_Route_A_2 = 20.0\n",
            "1st_Route_A_3 = 0.0\n",
            "1st_Route_B_1 = 0.0\n",
            "1st_Route_B_2 = 90.0\n",
            "1st_Route_B_3 = 0.0\n",
            "1st_Route_C_1 = 0.0\n",
            "1st_Route_C_2 = 0.0\n",
            "1st_Route_C_3 = 80.0\n",
            "1st_Route_D_1 = 0.0\n",
            "1st_Route_D_2 = 0.0\n",
            "1st_Route_D_3 = 60.0\n",
            "2nd_Route_1_2 = 50.0\n",
            "2nd_Route_1_3 = 0.0\n",
            "2nd_Route_1_4 = 0.0\n",
            "2nd_Route_1_5 = 0.0\n",
            "2nd_Route_1_6 = 0.0\n",
            "2nd_Route_2_2 = 0.0\n",
            "2nd_Route_2_3 = 70.0\n",
            "2nd_Route_2_4 = 40.0\n",
            "2nd_Route_2_5 = 0.0\n",
            "2nd_Route_2_6 = 0.0\n",
            "2nd_Route_3_2 = 0.0\n",
            "2nd_Route_3_3 = 0.0\n",
            "2nd_Route_3_4 = 40.0\n",
            "2nd_Route_3_5 = 60.0\n",
            "2nd_Route_3_6 = 40.0\n",
            "Value of Objective Function = 1820.0\n"
          ]
        }
      ]
    },
    {
      "cell_type": "code",
      "source": [
        "prob2 = LpProblem(\"Q4.d2\", sense=LpMinimize)\n",
        "\n",
        "P_Centre = ['A', 'B', 'C', 'D']\n",
        "supply = {'A': 70, 'B': 90, 'C': 80, 'D': 60}\n",
        "\n",
        "Warehouse = [1, 2, 3]\n",
        "\n",
        "D_Centre = [1, 2, 3, 4, 6]\n",
        "demand = {1: 50+10, 2: 40+10, 3: 60+10, 4: 70+10, 6: 30+10}\n",
        "\n",
        "C1 = [[4, 3, 5], [6, 2, 4], [5, 4, 3], [7, 5, 6]]\n",
        "C2 = [[3, 2, 5, 4, 7], [1, 4, 2, 3, 6], [5, 3, 4, 2, 4]]\n",
        "\n",
        "costs_1 = makeDict([P_Centre, Warehouse], C1)\n",
        "costs_2 = makeDict([Warehouse, D_Centre], C2)\n",
        "\n",
        "vars_1 = LpVariable.dicts(\"1st_Route\", (P_Centre, Warehouse), lowBound=0, cat='Integer')\n",
        "vars_2 = LpVariable.dicts(\"2nd_Route\", (Warehouse, D_Centre), lowBound=0, cat='Integer')\n",
        "\n",
        "prob2 += lpSum([vars_1[i][j] * costs_1[i][j] for i in P_Centre for j in Warehouse]) + \\\n",
        "        lpSum([vars_2[j][k] * costs_2[j][k] for j in Warehouse for k in D_Centre]), \"Total_Cost\"\n",
        "\n",
        "for i in P_Centre:\n",
        "    prob2 += lpSum([vars_1[i][j] for j in Warehouse]) == supply[i], f\"Supply_{i}\"\n",
        "\n",
        "for k in D_Centre:\n",
        "    prob2 += lpSum([vars_2[j][k] for j in Warehouse]) == demand[k], f\"Demand_{k}\"\n",
        "\n",
        "for j in Warehouse:\n",
        "    prob2 += lpSum([vars_1[i][j] for i in P_Centre]) == lpSum([vars_2[j][k] for k in D_Centre]), f\"Warehouse_{j}\"\n",
        "\n",
        "prob2.solve()\n",
        "\n",
        "print(\"Optimal_Assignment_Plan\")\n",
        "for v in prob2.variables():\n",
        "    print(v.name, \"=\", v.varValue)\n",
        "\n",
        "print(\"Value of Objective Function =\", value(prob2.objective))"
      ],
      "metadata": {
        "colab": {
          "base_uri": "https://localhost:8080/"
        },
        "id": "TOLVRPAn8ZiW",
        "outputId": "fc8e1559-fc39-4c46-a72d-b7e9955805e4"
      },
      "execution_count": null,
      "outputs": [
        {
          "output_type": "stream",
          "name": "stdout",
          "text": [
            "Optimal_Assignment_Plan\n",
            "1st_Route_A_1 = 50.0\n",
            "1st_Route_A_2 = 20.0\n",
            "1st_Route_A_3 = 0.0\n",
            "1st_Route_B_1 = 0.0\n",
            "1st_Route_B_2 = 90.0\n",
            "1st_Route_B_3 = 0.0\n",
            "1st_Route_C_1 = 0.0\n",
            "1st_Route_C_2 = 0.0\n",
            "1st_Route_C_3 = 80.0\n",
            "1st_Route_D_1 = 0.0\n",
            "1st_Route_D_2 = 60.0\n",
            "1st_Route_D_3 = 0.0\n",
            "2nd_Route_1_1 = 0.0\n",
            "2nd_Route_1_2 = 50.0\n",
            "2nd_Route_1_3 = 0.0\n",
            "2nd_Route_1_4 = 0.0\n",
            "2nd_Route_1_6 = 0.0\n",
            "2nd_Route_2_1 = 60.0\n",
            "2nd_Route_2_2 = 0.0\n",
            "2nd_Route_2_3 = 70.0\n",
            "2nd_Route_2_4 = 40.0\n",
            "2nd_Route_2_6 = 0.0\n",
            "2nd_Route_3_1 = 0.0\n",
            "2nd_Route_3_2 = 0.0\n",
            "2nd_Route_3_3 = 0.0\n",
            "2nd_Route_3_4 = 40.0\n",
            "2nd_Route_3_6 = 40.0\n",
            "Value of Objective Function = 1640.0\n"
          ]
        }
      ]
    },
    {
      "cell_type": "code",
      "source": [
        "print(\"Value of Objective Function by Removing DC1 =\", value(prob2.objective))\n",
        "print(\"Value of Objective Function by Removing DC5 =\", value(prob1.objective))"
      ],
      "metadata": {
        "colab": {
          "base_uri": "https://localhost:8080/"
        },
        "id": "EDAu7hqH9WYh",
        "outputId": "227ddf20-1cc4-4c4e-857b-183b33a17ed0"
      },
      "execution_count": null,
      "outputs": [
        {
          "output_type": "stream",
          "name": "stdout",
          "text": [
            "Value of Objective Function by Removing DC1 = 1640.0\n",
            "Value of Objective Function by Removing DC5 = 1820.0\n"
          ]
        }
      ]
    },
    {
      "cell_type": "code",
      "source": [
        "def get_assignment_plan(prob):\n",
        "    plan = []\n",
        "    for v in prob.variables():\n",
        "        plan.append((v.name, v.varValue))\n",
        "    return plan\n",
        "\n",
        "# Get assignment plans for both problems\n",
        "assignment_plan_prob1 = get_assignment_plan(prob1)\n",
        "assignment_plan_prob2 = get_assignment_plan(prob2)\n",
        "\n",
        "# Find the maximum length to format the output\n",
        "max_len = max(len(assignment_plan_prob1), len(assignment_plan_prob2))\n",
        "\n",
        "# Pad the shorter list with empty values\n",
        "while len(assignment_plan_prob1) < max_len:\n",
        "    assignment_plan_prob1.append((\"\", \"\"))\n",
        "while len(assignment_plan_prob2) < max_len:\n",
        "    assignment_plan_prob2.append((\"\", \"\"))\n",
        "\n",
        "# Print the results side by side in two columns\n",
        "print(f\"{'Removing DC1':<41} {'Removing DC5'}\")\n",
        "print(f\"{'-'*40} {'-'*40}\")\n",
        "for (name1, value1), (name2, value2) in zip(assignment_plan_prob1, assignment_plan_prob2):\n",
        "    print(f\"{name1:<30} {value1:<10} {name2:<30} {value2}\")"
      ],
      "metadata": {
        "colab": {
          "base_uri": "https://localhost:8080/"
        },
        "id": "uv9kSXpI-ggO",
        "outputId": "089c36ae-8a1f-4639-941c-4eec4327f8a4"
      },
      "execution_count": null,
      "outputs": [
        {
          "output_type": "stream",
          "name": "stdout",
          "text": [
            "Removing DC1                              Removing DC5\n",
            "---------------------------------------- ----------------------------------------\n",
            "1st_Route_A_1                  50.0       1st_Route_A_1                  50.0\n",
            "1st_Route_A_2                  20.0       1st_Route_A_2                  20.0\n",
            "1st_Route_A_3                  0.0        1st_Route_A_3                  0.0\n",
            "1st_Route_B_1                  0.0        1st_Route_B_1                  0.0\n",
            "1st_Route_B_2                  90.0       1st_Route_B_2                  90.0\n",
            "1st_Route_B_3                  0.0        1st_Route_B_3                  0.0\n",
            "1st_Route_C_1                  0.0        1st_Route_C_1                  0.0\n",
            "1st_Route_C_2                  0.0        1st_Route_C_2                  0.0\n",
            "1st_Route_C_3                  80.0       1st_Route_C_3                  80.0\n",
            "1st_Route_D_1                  0.0        1st_Route_D_1                  0.0\n",
            "1st_Route_D_2                  0.0        1st_Route_D_2                  60.0\n",
            "1st_Route_D_3                  60.0       1st_Route_D_3                  0.0\n",
            "2nd_Route_1_2                  50.0       2nd_Route_1_1                  0.0\n",
            "2nd_Route_1_3                  0.0        2nd_Route_1_2                  50.0\n",
            "2nd_Route_1_4                  0.0        2nd_Route_1_3                  0.0\n",
            "2nd_Route_1_5                  0.0        2nd_Route_1_4                  0.0\n",
            "2nd_Route_1_6                  0.0        2nd_Route_1_6                  0.0\n",
            "2nd_Route_2_2                  0.0        2nd_Route_2_1                  60.0\n",
            "2nd_Route_2_3                  70.0       2nd_Route_2_2                  0.0\n",
            "2nd_Route_2_4                  40.0       2nd_Route_2_3                  70.0\n",
            "2nd_Route_2_5                  0.0        2nd_Route_2_4                  40.0\n",
            "2nd_Route_2_6                  0.0        2nd_Route_2_6                  0.0\n",
            "2nd_Route_3_2                  0.0        2nd_Route_3_1                  0.0\n",
            "2nd_Route_3_3                  0.0        2nd_Route_3_2                  0.0\n",
            "2nd_Route_3_4                  40.0       2nd_Route_3_3                  0.0\n",
            "2nd_Route_3_5                  60.0       2nd_Route_3_4                  40.0\n",
            "2nd_Route_3_6                  40.0       2nd_Route_3_6                  40.0\n"
          ]
        }
      ]
    }
  ]
}
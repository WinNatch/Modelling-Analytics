{
  "nbformat": 4,
  "nbformat_minor": 0,
  "metadata": {
    "colab": {
      "provenance": [],
      "authorship_tag": "ABX9TyPKMnfdQ5vBKA+UYX9A+Ck4",
      "include_colab_link": true
    },
    "kernelspec": {
      "name": "python3",
      "display_name": "Python 3"
    },
    "language_info": {
      "name": "python"
    }
  },
  "cells": [
    {
      "cell_type": "markdown",
      "metadata": {
        "id": "view-in-github",
        "colab_type": "text"
      },
      "source": [
        "<a href=\"https://colab.research.google.com/github/WinNatch/Modelling-Individual-Assessment/blob/main/Q3_Individual_Assessment.ipynb\" target=\"_parent\"><img src=\"https://colab.research.google.com/assets/colab-badge.svg\" alt=\"Open In Colab\"/></a>"
      ]
    },
    {
      "cell_type": "code",
      "execution_count": null,
      "metadata": {
        "colab": {
          "base_uri": "https://localhost:8080/"
        },
        "id": "AHTBqQP2mtn-",
        "outputId": "8cb558b2-f7df-49ea-c3e4-68f8d74ad1da"
      },
      "outputs": [
        {
          "output_type": "stream",
          "name": "stdout",
          "text": [
            "Collecting pulp\n",
            "  Downloading PuLP-2.9.0-py3-none-any.whl.metadata (5.4 kB)\n",
            "Downloading PuLP-2.9.0-py3-none-any.whl (17.7 MB)\n",
            "\u001b[2K   \u001b[90m━━━━━━━━━━━━━━━━━━━━━━━━━━━━━━━━━━━━━━━━\u001b[0m \u001b[32m17.7/17.7 MB\u001b[0m \u001b[31m25.3 MB/s\u001b[0m eta \u001b[36m0:00:00\u001b[0m\n",
            "\u001b[?25hInstalling collected packages: pulp\n",
            "Successfully installed pulp-2.9.0\n",
            "Selecting previously unselected package libsuitesparseconfig5:amd64.\n",
            "(Reading database ... 123632 files and directories currently installed.)\n",
            "Preparing to unpack .../libsuitesparseconfig5_1%3a5.10.1+dfsg-4build1_amd64.deb ...\n",
            "Unpacking libsuitesparseconfig5:amd64 (1:5.10.1+dfsg-4build1) ...\n",
            "Selecting previously unselected package libamd2:amd64.\n",
            "Preparing to unpack .../libamd2_1%3a5.10.1+dfsg-4build1_amd64.deb ...\n",
            "Unpacking libamd2:amd64 (1:5.10.1+dfsg-4build1) ...\n",
            "Selecting previously unselected package libcolamd2:amd64.\n",
            "Preparing to unpack .../libcolamd2_1%3a5.10.1+dfsg-4build1_amd64.deb ...\n",
            "Unpacking libcolamd2:amd64 (1:5.10.1+dfsg-4build1) ...\n",
            "Selecting previously unselected package libglpk40:amd64.\n",
            "Preparing to unpack .../libglpk40_5.0-1_amd64.deb ...\n",
            "Unpacking libglpk40:amd64 (5.0-1) ...\n",
            "Selecting previously unselected package glpk-utils.\n",
            "Preparing to unpack .../glpk-utils_5.0-1_amd64.deb ...\n",
            "Unpacking glpk-utils (5.0-1) ...\n",
            "Setting up libsuitesparseconfig5:amd64 (1:5.10.1+dfsg-4build1) ...\n",
            "Setting up libamd2:amd64 (1:5.10.1+dfsg-4build1) ...\n",
            "Setting up libcolamd2:amd64 (1:5.10.1+dfsg-4build1) ...\n",
            "Setting up libglpk40:amd64 (5.0-1) ...\n",
            "Setting up glpk-utils (5.0-1) ...\n",
            "Processing triggers for man-db (2.10.2-1) ...\n",
            "Processing triggers for libc-bin (2.35-0ubuntu3.4) ...\n",
            "/sbin/ldconfig.real: /usr/local/lib/libtbbbind_2_0.so.3 is not a symbolic link\n",
            "\n",
            "/sbin/ldconfig.real: /usr/local/lib/libtcm_debug.so.1 is not a symbolic link\n",
            "\n",
            "/sbin/ldconfig.real: /usr/local/lib/libtcm.so.1 is not a symbolic link\n",
            "\n",
            "/sbin/ldconfig.real: /usr/local/lib/libumf.so.0 is not a symbolic link\n",
            "\n",
            "/sbin/ldconfig.real: /usr/local/lib/libtbb.so.12 is not a symbolic link\n",
            "\n",
            "/sbin/ldconfig.real: /usr/local/lib/libur_adapter_opencl.so.0 is not a symbolic link\n",
            "\n",
            "/sbin/ldconfig.real: /usr/local/lib/libtbbmalloc.so.2 is not a symbolic link\n",
            "\n",
            "/sbin/ldconfig.real: /usr/local/lib/libur_loader.so.0 is not a symbolic link\n",
            "\n",
            "/sbin/ldconfig.real: /usr/local/lib/libtbbbind.so.3 is not a symbolic link\n",
            "\n",
            "/sbin/ldconfig.real: /usr/local/lib/libtbbmalloc_proxy.so.2 is not a symbolic link\n",
            "\n",
            "/sbin/ldconfig.real: /usr/local/lib/libhwloc.so.15 is not a symbolic link\n",
            "\n",
            "/sbin/ldconfig.real: /usr/local/lib/libtbbbind_2_5.so.3 is not a symbolic link\n",
            "\n",
            "/sbin/ldconfig.real: /usr/local/lib/libur_adapter_level_zero.so.0 is not a symbolic link\n",
            "\n"
          ]
        }
      ],
      "source": [
        "# Intall and Import Package/Library\n",
        "!pip install pulp\n",
        "import pulp\n",
        "!apt-get install -y -qq glpk-utils\n",
        "from pulp import GLPK"
      ]
    },
    {
      "cell_type": "markdown",
      "source": [
        "##Question A"
      ],
      "metadata": {
        "id": "55I4jGLTFmwb"
      }
    },
    {
      "cell_type": "code",
      "source": [
        "model = pulp.LpProblem(\"Q3\", pulp.LpMinimize)\n",
        "\n",
        "G = pulp.LpVariable(\"G\", lowBound=0, upBound=None, cat='Continuous')\n",
        "T1 = pulp.LpVariable(\"T1\", lowBound=0, upBound=None, cat='Continuous')\n",
        "T2 = pulp.LpVariable(\"T2\", lowBound=0, upBound=None, cat='Continuous')\n",
        "C = pulp.LpVariable(\"C\", lowBound=0, upBound=None, cat='Continuous')\n",
        "d1_p = pulp.LpVariable(\"d1_p\", lowBound=0, upBound=None, cat='Continuous')\n",
        "d1_n = pulp.LpVariable(\"d1_n\", lowBound=0, upBound=None, cat='Continuous')\n",
        "d2_p = pulp.LpVariable(\"d2_p\", lowBound=0, upBound=None, cat='Continuous')\n",
        "d2_n = pulp.LpVariable(\"d2_n\", lowBound=0, upBound=None, cat='Continuous')\n",
        "d3_p = pulp.LpVariable(\"d3_p\", lowBound=0, upBound=None, cat='Continuous')\n",
        "d3_n = pulp.LpVariable(\"d3_n\", lowBound=0, upBound=None, cat='Continuous')\n",
        "d4_p = pulp.LpVariable(\"d4_p\", lowBound=0, upBound=None, cat='Continuous')\n",
        "d4_n = pulp.LpVariable(\"d4_n\", lowBound=0, upBound=None, cat='Continuous')\n",
        "\n",
        "# Objective Function\n",
        "model += d1_n # Followed by minimising d2_p -> d3_p -> d4_p\n",
        "\n",
        "# Hard Constraints\n",
        "model += T2 - T1 >= 0\n",
        "\n",
        "# Goal Constraints\n",
        "model += 1.5*G + 25*T1 + 15*T2 + C - d1_p + d1_n == 1000, \"Goal 1\"\n",
        "model += C - d2_p + d2_n == 150, \"Goal 2\"\n",
        "model += 0.5*G + 5*T1 + 15*T2 - d3_p + d3_n == 550, \"Goal 3\"\n",
        "model += G + 20*T1 - d4_p + d4_n == 350, \"Goal 4\"\n",
        "# model += d1_n == 0, \"C_Goal 1\"\n",
        "# model += d2_p == 0, \"C_Goal 2\"\n",
        "# model += d3_p == 0, \"C_Goal 3\"\n",
        "\n",
        "# Solve the Problem\n",
        "model.writeLP(\"Q3.lp\")\n",
        "model.solve()\n",
        "\n",
        "# The Status of the Solution\n",
        "print(\"Model Status:{}\".format(pulp.LpStatus[model.status]))\n",
        "\n",
        "# To Display Optimal Decision Variables & Reduced Cost per Variable\n",
        "for v in model.variables():\n",
        "\t  print(v.name, \"=\", v.varValue)\n",
        "\n",
        "# To Display Optimal Value of Objective Function\n",
        "print(\"Objective=\", pulp.value(model.objective))"
      ],
      "metadata": {
        "colab": {
          "base_uri": "https://localhost:8080/"
        },
        "id": "1zfB8t_RhPyL",
        "outputId": "a8067608-1eab-4f71-a901-dbdc4f027542"
      },
      "execution_count": null,
      "outputs": [
        {
          "output_type": "stream",
          "name": "stdout",
          "text": [
            "Model Status:Optimal\n",
            "C = 450.0\n",
            "G = 0.0\n",
            "T1 = 0.0\n",
            "T2 = 36.666667\n",
            "d1_n = 0.0\n",
            "d1_p = 0.0\n",
            "d2_n = 0.0\n",
            "d2_p = 300.0\n",
            "d3_n = 0.0\n",
            "d3_p = 0.0\n",
            "d4_n = 350.0\n",
            "d4_p = 0.0\n",
            "Objective= 0.0\n"
          ]
        }
      ]
    },
    {
      "cell_type": "markdown",
      "source": [
        "##Question B"
      ],
      "metadata": {
        "id": "3t-gachpmHtM"
      }
    },
    {
      "cell_type": "code",
      "source": [
        "Revenue = 1.5*G.varValue + 25*T1.varValue + 15*T2.varValue\n",
        "\n",
        "G_m10 = round((((0.9*1.5*G.varValue + 25*T1.varValue + 15*T2.varValue)/Revenue)*100)-100,2)\n",
        "G_p10 = round((((1.1*1.5*G.varValue + 25*T1.varValue + 15*T2.varValue)/Revenue)*100)-100,2)\n",
        "T1_m10 = round((((1.5*G.varValue + 0.9*25*T1.varValue + 15*T2.varValue)/Revenue)*100)-100,2)\n",
        "T1_p10 = round((((1.5*G.varValue + 1.1*25*T1.varValue + 15*T2.varValue)/Revenue)*100)-100,2)\n",
        "T2_m10 = round((((1.5*G.varValue + 25*T1.varValue + 0.9*15*T2.varValue)/Revenue)*100)-100,2)\n",
        "T2_p10 = round((((1.5*G.varValue + 25*T1.varValue + 1.1*15*T2.varValue)/Revenue)*100)-100,2)\n",
        "\n",
        "print(\"Change in Revenue from 10% decrease in G =\", G_m10,\"%\")\n",
        "print(\"Change in Revenue from 10% increase in G =\", G_p10,\"%\")\n",
        "print(\"Change in Revenue from 10% decrease in T1 =\", T1_m10,\"%\")\n",
        "print(\"Change in Revenue from 10% increase in T1 =\", T1_p10,\"%\")\n",
        "print(\"Change in Revenue from 10% decrease in T2 =\", T2_m10,\"%\")\n",
        "print(\"Change in Revenue from 10% increase in T2 =\", T2_p10,\"%\")"
      ],
      "metadata": {
        "colab": {
          "base_uri": "https://localhost:8080/"
        },
        "id": "HYLPLqw3mM10",
        "outputId": "36c795a8-37d2-4441-8734-2412de5541a7"
      },
      "execution_count": null,
      "outputs": [
        {
          "output_type": "stream",
          "name": "stdout",
          "text": [
            "Change in Revenue from 10% decrease in G = -5.29 %\n",
            "Change in Revenue from 10% increase in G = 5.29 %\n",
            "Change in Revenue from 10% decrease in T1 = 0.0 %\n",
            "Change in Revenue from 10% increase in T1 = 0.0 %\n",
            "Change in Revenue from 10% decrease in T2 = -4.71 %\n",
            "Change in Revenue from 10% increase in T2 = 4.71 %\n"
          ]
        }
      ]
    },
    {
      "cell_type": "code",
      "source": [
        "model = pulp.LpProblem(\"Q3\", pulp.LpMinimize)\n",
        "\n",
        "G = pulp.LpVariable(\"G\", lowBound=0, upBound=None, cat='Continuous')\n",
        "T1 = pulp.LpVariable(\"T1\", lowBound=0, upBound=None, cat='Continuous')\n",
        "T2 = pulp.LpVariable(\"T2\", lowBound=0, upBound=None, cat='Continuous')\n",
        "C = pulp.LpVariable(\"C\", lowBound=0, upBound=None, cat='Continuous')\n",
        "d1_p = pulp.LpVariable(\"d1_p\", lowBound=0, upBound=None, cat='Continuous')\n",
        "d1_n = pulp.LpVariable(\"d1_n\", lowBound=0, upBound=None, cat='Continuous')\n",
        "d2_p = pulp.LpVariable(\"d2_p\", lowBound=0, upBound=None, cat='Continuous')\n",
        "d2_n = pulp.LpVariable(\"d2_n\", lowBound=0, upBound=None, cat='Continuous')\n",
        "d3_p = pulp.LpVariable(\"d3_p\", lowBound=0, upBound=None, cat='Continuous')\n",
        "d3_n = pulp.LpVariable(\"d3_n\", lowBound=0, upBound=None, cat='Continuous')\n",
        "d4_p = pulp.LpVariable(\"d4_p\", lowBound=0, upBound=None, cat='Continuous')\n",
        "d4_n = pulp.LpVariable(\"d4_n\", lowBound=0, upBound=None, cat='Continuous')\n",
        "\n",
        "# Objective Function\n",
        "model += d4_p\n",
        "\n",
        "# Hard Constraints\n",
        "model += T2 - T1 >= 0\n",
        "\n",
        "# Goal Constraints\n",
        "model += 1.5*G + 25*T1 + 15*T2 + C - d1_p + d1_n == 1000, \"Goal 1\"\n",
        "model += C - d2_p + d2_n == 150, \"Goal 2\"\n",
        "model += 0.5*G + 5*T1 + 15*T2 - d3_p + d3_n == 550, \"Goal 3\"\n",
        "model += G + 20*T1 - d4_p + d4_n == 350, \"Goal 4\"\n",
        "model += d1_n == 0, \"C_Goal 1\"\n",
        "model += d2_p == 0, \"C_Goal 2\"\n",
        "model += d3_p == 0, \"C_Goal 3\"\n",
        "\n",
        "# Solve the Problem\n",
        "model.writeLP(\"Q3.lp\")\n",
        "model.solve()\n",
        "\n",
        "# The Status of the Solution\n",
        "print(\"Model Status:{}\".format(pulp.LpStatus[model.status]))\n",
        "\n",
        "# To Display Optimal Decision Variables & Reduced Cost per Variable\n",
        "for v in model.variables():\n",
        "\t  print(v.name, \"=\", v.varValue)\n",
        "\n",
        "# To Display Optimal Value of Objective Function\n",
        "print(\"Objective=\", pulp.value(model.objective))"
      ],
      "metadata": {
        "colab": {
          "base_uri": "https://localhost:8080/"
        },
        "id": "qpAfCLGd8m-R",
        "outputId": "ffa42ee2-4211-4a8a-be04-d3a55044307d"
      },
      "execution_count": null,
      "outputs": [
        {
          "output_type": "stream",
          "name": "stdout",
          "text": [
            "Model Status:Optimal\n",
            "C = 150.0\n",
            "G = 300.0\n",
            "T1 = 0.0\n",
            "T2 = 26.666667\n",
            "d1_n = 0.0\n",
            "d1_p = 0.0\n",
            "d2_n = 0.0\n",
            "d2_p = 0.0\n",
            "d3_n = 0.0\n",
            "d3_p = 0.0\n",
            "d4_n = 50.0\n",
            "d4_p = 0.0\n",
            "Objective= 0.0\n"
          ]
        }
      ]
    }
  ]
}
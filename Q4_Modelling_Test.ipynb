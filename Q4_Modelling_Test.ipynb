{
  "nbformat": 4,
  "nbformat_minor": 0,
  "metadata": {
    "colab": {
      "provenance": [],
      "authorship_tag": "ABX9TyOKDgcZ1+hrGBE7r00Eikvq",
      "include_colab_link": true
    },
    "kernelspec": {
      "name": "python3",
      "display_name": "Python 3"
    },
    "language_info": {
      "name": "python"
    }
  },
  "cells": [
    {
      "cell_type": "markdown",
      "metadata": {
        "id": "view-in-github",
        "colab_type": "text"
      },
      "source": [
        "<a href=\"https://colab.research.google.com/github/WinNatch/Modelling-Individual-Ass/blob/main/Q4_Modelling_Test.ipynb\" target=\"_parent\"><img src=\"https://colab.research.google.com/assets/colab-badge.svg\" alt=\"Open In Colab\"/></a>"
      ]
    },
    {
      "cell_type": "code",
      "execution_count": 1,
      "metadata": {
        "colab": {
          "base_uri": "https://localhost:8080/"
        },
        "id": "tk2Iza_dxV09",
        "outputId": "cb846c10-057b-45d8-d627-53635af9a8a8"
      },
      "outputs": [
        {
          "output_type": "stream",
          "name": "stdout",
          "text": [
            "Collecting pulp\n",
            "  Downloading PuLP-2.9.0-py3-none-any.whl.metadata (5.4 kB)\n",
            "Downloading PuLP-2.9.0-py3-none-any.whl (17.7 MB)\n",
            "\u001b[2K   \u001b[90m━━━━━━━━━━━━━━━━━━━━━━━━━━━━━━━━━━━━━━━━\u001b[0m \u001b[32m17.7/17.7 MB\u001b[0m \u001b[31m81.2 MB/s\u001b[0m eta \u001b[36m0:00:00\u001b[0m\n",
            "\u001b[?25hInstalling collected packages: pulp\n",
            "Successfully installed pulp-2.9.0\n"
          ]
        }
      ],
      "source": [
        "# Intall and Import Package/Library\n",
        "!pip install pulp\n",
        "from pulp import *"
      ]
    },
    {
      "cell_type": "markdown",
      "source": [
        "##Question A"
      ],
      "metadata": {
        "id": "hOuMysb15DoN"
      }
    },
    {
      "cell_type": "code",
      "source": [
        "# Define Environment & Direction of Optimization\n",
        "prob = LpProblem(\"Q4\", sense=LpMinimize)\n",
        "\n",
        "P_Centre = ['A', 'B', 'C', 'D']\n",
        "supply = {'A': 70, 'B': 90, 'C': 80, 'D': 60}\n",
        "\n",
        "Warehouse = [1, 2, 3]\n",
        "\n",
        "D_Centre = [1, 2, 3, 4, 5, 6]\n",
        "demand = {1: 50, 2: 40, 3: 60, 4: 70, 5: 50, 6: 30}\n",
        "\n",
        "C1 = [[4, 3, 5], [6, 2, 4], [5, 4, 3], [7, 5, 6]]\n",
        "C2 = [[3, 2, 5, 4, 6, 7], [1, 4, 2, 3, 5, 6], [5, 3, 4, 2, 3, 4]]\n",
        "\n",
        "costs_1 = makeDict([P_Centre, Warehouse], C1)\n",
        "costs_2 = makeDict([Warehouse, D_Centre], C2)\n",
        "\n",
        "vars_1 = LpVariable.dicts(\"1st_Route\", (P_Centre, Warehouse), lowBound=0, cat='Integer')\n",
        "vars_2 = LpVariable.dicts(\"2nd_Route\", (Warehouse, D_Centre), lowBound=0, cat='Integer')\n",
        "\n",
        "prob += lpSum([vars_1[i][j] * costs_1[i][j] for i in P_Centre for j in Warehouse]) + \\\n",
        "        lpSum([vars_2[j][k] * costs_2[j][k] for j in Warehouse for k in D_Centre]), \"Total_Cost\"\n",
        "\n",
        "for i in P_Centre:\n",
        "    prob += lpSum([vars_1[i][j] for j in Warehouse]) == supply[i], f\"Supply_{i}\"\n",
        "\n",
        "for k in D_Centre:\n",
        "    prob += lpSum([vars_2[j][k] for j in Warehouse]) == demand[k], f\"Demand_{k}\"\n",
        "\n",
        "for j in Warehouse:\n",
        "    prob += lpSum([vars_1[i][j] for i in P_Centre]) == lpSum([vars_2[j][k] for k in D_Centre]), f\"Warehouse_{j}\"\n",
        "\n",
        "prob.solve()\n",
        "\n",
        "print(\"Optimal_Assignment_Plan\")\n",
        "for v in prob.variables():\n",
        "    print(v.name, \"=\", v.varValue)\n",
        "\n",
        "print(\"Value of Objective Function =\", value(prob.objective))"
      ],
      "metadata": {
        "colab": {
          "base_uri": "https://localhost:8080/"
        },
        "id": "Lrku7tbjzMIl",
        "outputId": "f5172bde-796d-413c-d208-9a4f148f3cec"
      },
      "execution_count": 15,
      "outputs": [
        {
          "output_type": "stream",
          "name": "stdout",
          "text": [
            "Optimal_Assignment_Plan\n",
            "1st_Route_A_1 = 40.0\n",
            "1st_Route_A_2 = 30.0\n",
            "1st_Route_A_3 = 0.0\n",
            "1st_Route_B_1 = 0.0\n",
            "1st_Route_B_2 = 90.0\n",
            "1st_Route_B_3 = 0.0\n",
            "1st_Route_C_1 = 0.0\n",
            "1st_Route_C_2 = 0.0\n",
            "1st_Route_C_3 = 80.0\n",
            "1st_Route_D_1 = 0.0\n",
            "1st_Route_D_2 = 60.0\n",
            "1st_Route_D_3 = 0.0\n",
            "2nd_Route_1_1 = 0.0\n",
            "2nd_Route_1_2 = 40.0\n",
            "2nd_Route_1_3 = 0.0\n",
            "2nd_Route_1_4 = 0.0\n",
            "2nd_Route_1_5 = 0.0\n",
            "2nd_Route_1_6 = 0.0\n",
            "2nd_Route_2_1 = 50.0\n",
            "2nd_Route_2_2 = 0.0\n",
            "2nd_Route_2_3 = 60.0\n",
            "2nd_Route_2_4 = 70.0\n",
            "2nd_Route_2_5 = 0.0\n",
            "2nd_Route_2_6 = 0.0\n",
            "2nd_Route_3_1 = 0.0\n",
            "2nd_Route_3_2 = 0.0\n",
            "2nd_Route_3_3 = 0.0\n",
            "2nd_Route_3_4 = 0.0\n",
            "2nd_Route_3_5 = 50.0\n",
            "2nd_Route_3_6 = 30.0\n",
            "Value of Objective Function = 1700.0\n"
          ]
        }
      ]
    },
    {
      "cell_type": "markdown",
      "source": [
        "##Question B"
      ],
      "metadata": {
        "id": "coZ_TjYW4-s_"
      }
    },
    {
      "cell_type": "code",
      "source": [
        "# Define Environment & Direction of Optimization\n",
        "prob = LpProblem(\"Q4\", sense=LpMinimize)\n",
        "\n",
        "P_Centre = ['A', 'B', 'C', 'D']\n",
        "supply = {'A': 70, 'B': 90, 'C': 80, 'D': 60}\n",
        "\n",
        "Warehouse = [1, 2, 3]\n",
        "\n",
        "D_Centre = [1, 2, 3, 4, 5, 6]\n",
        "demand = {1: 50, 2: 40, 3: 60, 4: 70, 5: 50, 6: 30}\n",
        "\n",
        "C1 = [[4, 3+1, 5], [6, 2+1, 4], [5, 4+1, 3], [7, 5+1, 6]]\n",
        "C2 = [[3, 2, 5, 4, 6, 7], [1+1, 4+1, 2+1, 3+1, 5+1, 6+1], [5, 3, 4, 2, 3, 4]]\n",
        "\n",
        "costs_1 = makeDict([P_Centre, Warehouse], C1)\n",
        "costs_2 = makeDict([Warehouse, D_Centre], C2)\n",
        "\n",
        "vars_1 = LpVariable.dicts(\"1st_Route\", (P_Centre, Warehouse), lowBound=0, cat='Integer')\n",
        "vars_2 = LpVariable.dicts(\"2nd_Route\", (Warehouse, D_Centre), lowBound=0, cat='Integer')\n",
        "\n",
        "prob += lpSum([vars_1[i][j] * costs_1[i][j] for i in P_Centre for j in Warehouse]) + \\\n",
        "        lpSum([vars_2[j][k] * costs_2[j][k] for j in Warehouse for k in D_Centre]), \"Total_Cost\"\n",
        "\n",
        "for i in P_Centre:\n",
        "    prob += lpSum([vars_1[i][j] for j in Warehouse]) == supply[i], f\"Supply_{i}\"\n",
        "\n",
        "for k in D_Centre:\n",
        "    prob += lpSum([vars_2[j][k] for j in Warehouse]) == demand[k], f\"Demand_{k}\"\n",
        "\n",
        "for j in Warehouse:\n",
        "    prob += lpSum([vars_1[i][j] for i in P_Centre]) == lpSum([vars_2[j][k] for k in D_Centre]), f\"Warehouse_{j}\"\n",
        "\n",
        "prob.solve()\n",
        "\n",
        "print(\"Optimal_Assignment_Plan\")\n",
        "for v in prob.variables():\n",
        "    print(v.name, \"=\", v.varValue)\n",
        "\n",
        "print(\"Value of Objective Function =\", value(prob.objective))"
      ],
      "metadata": {
        "colab": {
          "base_uri": "https://localhost:8080/"
        },
        "id": "R_oMIAVP498V",
        "outputId": "1d154be4-1906-4252-d138-176ab2a8fe97"
      },
      "execution_count": 16,
      "outputs": [
        {
          "output_type": "stream",
          "name": "stdout",
          "text": [
            "Optimal_Assignment_Plan\n",
            "1st_Route_A_1 = 40.0\n",
            "1st_Route_A_2 = 30.0\n",
            "1st_Route_A_3 = 0.0\n",
            "1st_Route_B_1 = 0.0\n",
            "1st_Route_B_2 = 80.0\n",
            "1st_Route_B_3 = 10.0\n",
            "1st_Route_C_1 = 0.0\n",
            "1st_Route_C_2 = 0.0\n",
            "1st_Route_C_3 = 80.0\n",
            "1st_Route_D_1 = 0.0\n",
            "1st_Route_D_2 = 0.0\n",
            "1st_Route_D_3 = 60.0\n",
            "2nd_Route_1_1 = 0.0\n",
            "2nd_Route_1_2 = 40.0\n",
            "2nd_Route_1_3 = 0.0\n",
            "2nd_Route_1_4 = 0.0\n",
            "2nd_Route_1_5 = 0.0\n",
            "2nd_Route_1_6 = 0.0\n",
            "2nd_Route_2_1 = 50.0\n",
            "2nd_Route_2_2 = 0.0\n",
            "2nd_Route_2_3 = 60.0\n",
            "2nd_Route_2_4 = 0.0\n",
            "2nd_Route_2_5 = 0.0\n",
            "2nd_Route_2_6 = 0.0\n",
            "2nd_Route_3_1 = 0.0\n",
            "2nd_Route_3_2 = 0.0\n",
            "2nd_Route_3_3 = 0.0\n",
            "2nd_Route_3_4 = 70.0\n",
            "2nd_Route_3_5 = 50.0\n",
            "2nd_Route_3_6 = 30.0\n",
            "Value of Objective Function = 1930.0\n"
          ]
        }
      ]
    },
    {
      "cell_type": "markdown",
      "source": [
        "##Question C"
      ],
      "metadata": {
        "id": "FGy_Io3V6TGh"
      }
    },
    {
      "cell_type": "code",
      "source": [
        "prob = LpProblem(\"Q4\", sense=LpMinimize)\n",
        "\n",
        "P_Centre = ['A', 'B', 'C', 'D']\n",
        "supply = {'A': 70, 'B': 90, 'C': 80, 'D': 60}\n",
        "\n",
        "Warehouse = [1, 2, 3]\n",
        "\n",
        "D_Centre = [1, 2, 3, 4, 5, 6]\n",
        "demand = {1: 50, 2: 40, 3: 60, 4: 70, 5: 50, 6: 30}\n",
        "\n",
        "C1 = [[4, 3, 5], [6, 2, 4], [5, 4, 3], [7, 5, 6]]\n",
        "C2 = [[3, 2, 5, 4, 6, 7], [1, 4, 2, 3, 5, 6], [5, 3, 4, 2, 3, 4]]\n",
        "\n",
        "costs_1 = makeDict([P_Centre, Warehouse], C1)\n",
        "costs_2 = makeDict([Warehouse, D_Centre], C2)\n",
        "\n",
        "vars_1 = LpVariable.dicts(\"1st_Route\", (P_Centre, Warehouse), lowBound=0, cat='Integer')\n",
        "vars_2 = LpVariable.dicts(\"2nd_Route\", (Warehouse, D_Centre), lowBound=0, cat='Integer')\n",
        "\n",
        "prob += lpSum([vars_1[i][j] * costs_1[i][j] for i in P_Centre for j in Warehouse]) + \\\n",
        "        lpSum([vars_2[j][k] * costs_2[j][k] for j in Warehouse for k in D_Centre]), \"Total_Cost\"\n",
        "\n",
        "for i in P_Centre:\n",
        "    prob += lpSum([vars_1[i][j] for j in Warehouse]) == supply[i], f\"Supply_{i}\"\n",
        "\n",
        "for k in D_Centre:\n",
        "    prob += lpSum([vars_2[j][k] for j in Warehouse]) == demand[k], f\"Demand_{k}\"\n",
        "\n",
        "for j in Warehouse:\n",
        "    prob += lpSum([vars_1[i][j] for i in P_Centre]) == lpSum([vars_2[j][k] for k in D_Centre]), f\"Warehouse_{j}\"\n",
        "\n",
        "prob += lpSum([vars_1[i][1] for i in P_Centre]) <= 50, \"Warehouse_1 Capacity\"\n",
        "\n",
        "prob.solve()\n",
        "\n",
        "print(\"Optimal_Assignment_Plan\")\n",
        "for v in prob.variables():\n",
        "    print(v.name, \"=\", v.varValue)\n",
        "\n",
        "print(\"Value of Objective Function =\", value(prob.objective))"
      ],
      "metadata": {
        "colab": {
          "base_uri": "https://localhost:8080/"
        },
        "id": "OEIhTxF96EO6",
        "outputId": "7c64120c-1cfe-49e5-de36-d1b9e2ce8752"
      },
      "execution_count": 19,
      "outputs": [
        {
          "output_type": "stream",
          "name": "stdout",
          "text": [
            "Optimal_Assignment_Plan\n",
            "1st_Route_A_1 = 40.0\n",
            "1st_Route_A_2 = 30.0\n",
            "1st_Route_A_3 = 0.0\n",
            "1st_Route_B_1 = 0.0\n",
            "1st_Route_B_2 = 90.0\n",
            "1st_Route_B_3 = 0.0\n",
            "1st_Route_C_1 = 0.0\n",
            "1st_Route_C_2 = 0.0\n",
            "1st_Route_C_3 = 80.0\n",
            "1st_Route_D_1 = 0.0\n",
            "1st_Route_D_2 = 60.0\n",
            "1st_Route_D_3 = 0.0\n",
            "2nd_Route_1_1 = 0.0\n",
            "2nd_Route_1_2 = 40.0\n",
            "2nd_Route_1_3 = 0.0\n",
            "2nd_Route_1_4 = 0.0\n",
            "2nd_Route_1_5 = 0.0\n",
            "2nd_Route_1_6 = 0.0\n",
            "2nd_Route_2_1 = 50.0\n",
            "2nd_Route_2_2 = 0.0\n",
            "2nd_Route_2_3 = 60.0\n",
            "2nd_Route_2_4 = 70.0\n",
            "2nd_Route_2_5 = 0.0\n",
            "2nd_Route_2_6 = 0.0\n",
            "2nd_Route_3_1 = 0.0\n",
            "2nd_Route_3_2 = 0.0\n",
            "2nd_Route_3_3 = 0.0\n",
            "2nd_Route_3_4 = 0.0\n",
            "2nd_Route_3_5 = 50.0\n",
            "2nd_Route_3_6 = 30.0\n",
            "Value of Objective Function = 1700.0\n"
          ]
        }
      ]
    },
    {
      "cell_type": "markdown",
      "source": [
        "##Question D"
      ],
      "metadata": {
        "id": "HfkBpubl7P5i"
      }
    },
    {
      "cell_type": "code",
      "source": [
        "prob1 = LpProblem(\"Q4.d1\", sense=LpMinimize)\n",
        "\n",
        "P_Centre = ['A', 'B', 'C', 'D']\n",
        "supply = {'A': 70, 'B': 90, 'C': 80, 'D': 60}\n",
        "\n",
        "Warehouse = [1, 2, 3]\n",
        "\n",
        "D_Centre = [2, 3, 4, 5, 6]\n",
        "demand = {2: 40+10, 3: 60+10, 4: 70+10, 5: 50+10, 6: 30+10}\n",
        "\n",
        "C1 = [[4, 3, 5], [6, 2, 4], [5, 4, 3], [7, 5, 6]]\n",
        "C2 = [[2, 5, 4, 6, 7], [4, 2, 3, 5, 6], [3, 4, 2, 3, 4]]\n",
        "\n",
        "costs_1 = makeDict([P_Centre, Warehouse], C1)\n",
        "costs_2 = makeDict([Warehouse, D_Centre], C2)\n",
        "\n",
        "vars_1 = LpVariable.dicts(\"1st_Route\", (P_Centre, Warehouse), lowBound=0, cat='Integer')\n",
        "vars_2 = LpVariable.dicts(\"2nd_Route\", (Warehouse, D_Centre), lowBound=0, cat='Integer')\n",
        "\n",
        "prob1 += lpSum([vars_1[i][j] * costs_1[i][j] for i in P_Centre for j in Warehouse]) + \\\n",
        "        lpSum([vars_2[j][k] * costs_2[j][k] for j in Warehouse for k in D_Centre]), \"Total_Cost\"\n",
        "\n",
        "for i in P_Centre:\n",
        "    prob1 += lpSum([vars_1[i][j] for j in Warehouse]) == supply[i], f\"Supply_{i}\"\n",
        "\n",
        "for k in D_Centre:\n",
        "    prob1 += lpSum([vars_2[j][k] for j in Warehouse]) == demand[k], f\"Demand_{k}\"\n",
        "\n",
        "for j in Warehouse:\n",
        "    prob1 += lpSum([vars_1[i][j] for i in P_Centre]) == lpSum([vars_2[j][k] for k in D_Centre]), f\"Warehouse_{j}\"\n",
        "\n",
        "prob1.solve()\n",
        "\n",
        "print(\"Optimal_Assignment_Plan\")\n",
        "for v in prob1.variables():\n",
        "    print(v.name, \"=\", v.varValue)\n",
        "\n",
        "print(\"Value of Objective Function =\", value(prob1.objective))"
      ],
      "metadata": {
        "colab": {
          "base_uri": "https://localhost:8080/"
        },
        "id": "DTGMa_7u7UQD",
        "outputId": "9be65229-16f8-40b4-d7ba-26ccc32b401b"
      },
      "execution_count": 26,
      "outputs": [
        {
          "output_type": "stream",
          "name": "stdout",
          "text": [
            "Optimal_Assignment_Plan\n",
            "1st_Route_A_1 = 50.0\n",
            "1st_Route_A_2 = 20.0\n",
            "1st_Route_A_3 = 0.0\n",
            "1st_Route_B_1 = 0.0\n",
            "1st_Route_B_2 = 90.0\n",
            "1st_Route_B_3 = 0.0\n",
            "1st_Route_C_1 = 0.0\n",
            "1st_Route_C_2 = 0.0\n",
            "1st_Route_C_3 = 80.0\n",
            "1st_Route_D_1 = 0.0\n",
            "1st_Route_D_2 = 0.0\n",
            "1st_Route_D_3 = 60.0\n",
            "2nd_Route_1_2 = 50.0\n",
            "2nd_Route_1_3 = 0.0\n",
            "2nd_Route_1_4 = 0.0\n",
            "2nd_Route_1_5 = 0.0\n",
            "2nd_Route_1_6 = 0.0\n",
            "2nd_Route_2_2 = 0.0\n",
            "2nd_Route_2_3 = 70.0\n",
            "2nd_Route_2_4 = 40.0\n",
            "2nd_Route_2_5 = 0.0\n",
            "2nd_Route_2_6 = 0.0\n",
            "2nd_Route_3_2 = 0.0\n",
            "2nd_Route_3_3 = 0.0\n",
            "2nd_Route_3_4 = 40.0\n",
            "2nd_Route_3_5 = 60.0\n",
            "2nd_Route_3_6 = 40.0\n",
            "Value of Objective Function = 1820.0\n"
          ]
        }
      ]
    },
    {
      "cell_type": "code",
      "source": [
        "prob2 = LpProblem(\"Q4.d2\", sense=LpMinimize)\n",
        "\n",
        "P_Centre = ['A', 'B', 'C', 'D']\n",
        "supply = {'A': 70, 'B': 90, 'C': 80, 'D': 60}\n",
        "\n",
        "Warehouse = [1, 2, 3]\n",
        "\n",
        "D_Centre = [1, 2, 3, 4, 6]\n",
        "demand = {1: 50+10, 2: 40+10, 3: 60+10, 4: 70+10, 6: 30+10}\n",
        "\n",
        "C1 = [[4, 3, 5], [6, 2, 4], [5, 4, 3], [7, 5, 6]]\n",
        "C2 = [[3, 2, 5, 4, 7], [1, 4, 2, 3, 6], [5, 3, 4, 2, 4]]\n",
        "\n",
        "costs_1 = makeDict([P_Centre, Warehouse], C1)\n",
        "costs_2 = makeDict([Warehouse, D_Centre], C2)\n",
        "\n",
        "vars_1 = LpVariable.dicts(\"1st_Route\", (P_Centre, Warehouse), lowBound=0, cat='Integer')\n",
        "vars_2 = LpVariable.dicts(\"2nd_Route\", (Warehouse, D_Centre), lowBound=0, cat='Integer')\n",
        "\n",
        "prob2 += lpSum([vars_1[i][j] * costs_1[i][j] for i in P_Centre for j in Warehouse]) + \\\n",
        "        lpSum([vars_2[j][k] * costs_2[j][k] for j in Warehouse for k in D_Centre]), \"Total_Cost\"\n",
        "\n",
        "for i in P_Centre:\n",
        "    prob2 += lpSum([vars_1[i][j] for j in Warehouse]) == supply[i], f\"Supply_{i}\"\n",
        "\n",
        "for k in D_Centre:\n",
        "    prob2 += lpSum([vars_2[j][k] for j in Warehouse]) == demand[k], f\"Demand_{k}\"\n",
        "\n",
        "for j in Warehouse:\n",
        "    prob2 += lpSum([vars_1[i][j] for i in P_Centre]) == lpSum([vars_2[j][k] for k in D_Centre]), f\"Warehouse_{j}\"\n",
        "\n",
        "prob2.solve()\n",
        "\n",
        "print(\"Optimal_Assignment_Plan\")\n",
        "for v in prob2.variables():\n",
        "    print(v.name, \"=\", v.varValue)\n",
        "\n",
        "print(\"Value of Objective Function =\", value(prob2.objective))"
      ],
      "metadata": {
        "colab": {
          "base_uri": "https://localhost:8080/"
        },
        "id": "TOLVRPAn8ZiW",
        "outputId": "baa16d9c-302f-4129-9ebf-bf2eb451f9c3"
      },
      "execution_count": 25,
      "outputs": [
        {
          "output_type": "stream",
          "name": "stdout",
          "text": [
            "Optimal_Assignment_Plan\n",
            "1st_Route_A_1 = 50.0\n",
            "1st_Route_A_2 = 20.0\n",
            "1st_Route_A_3 = 0.0\n",
            "1st_Route_B_1 = 0.0\n",
            "1st_Route_B_2 = 90.0\n",
            "1st_Route_B_3 = 0.0\n",
            "1st_Route_C_1 = 0.0\n",
            "1st_Route_C_2 = 0.0\n",
            "1st_Route_C_3 = 80.0\n",
            "1st_Route_D_1 = 0.0\n",
            "1st_Route_D_2 = 60.0\n",
            "1st_Route_D_3 = 0.0\n",
            "2nd_Route_1_1 = 0.0\n",
            "2nd_Route_1_2 = 50.0\n",
            "2nd_Route_1_3 = 0.0\n",
            "2nd_Route_1_4 = 0.0\n",
            "2nd_Route_1_6 = 0.0\n",
            "2nd_Route_2_1 = 60.0\n",
            "2nd_Route_2_2 = 0.0\n",
            "2nd_Route_2_3 = 70.0\n",
            "2nd_Route_2_4 = 40.0\n",
            "2nd_Route_2_6 = 0.0\n",
            "2nd_Route_3_1 = 0.0\n",
            "2nd_Route_3_2 = 0.0\n",
            "2nd_Route_3_3 = 0.0\n",
            "2nd_Route_3_4 = 40.0\n",
            "2nd_Route_3_6 = 40.0\n",
            "Value of Objective Function = 1640.0\n"
          ]
        }
      ]
    },
    {
      "cell_type": "code",
      "source": [
        "print(\"Value of Objective Function by Removing DC1 =\", value(prob2.objective))\n",
        "print(\"Value of Objective Function by Removing DC5 =\", value(prob1.objective))"
      ],
      "metadata": {
        "colab": {
          "base_uri": "https://localhost:8080/"
        },
        "id": "EDAu7hqH9WYh",
        "outputId": "2d8eb310-1f27-4403-f52a-fdd6b4bb7b18"
      },
      "execution_count": 27,
      "outputs": [
        {
          "output_type": "stream",
          "name": "stdout",
          "text": [
            "Value of Objective Function by Removing DC1 = 1640.0\n",
            "Value of Objective Function by Removing DC5 = 1820.0\n"
          ]
        }
      ]
    },
    {
      "cell_type": "code",
      "source": [
        "def get_assignment_plan(prob):\n",
        "    plan = []\n",
        "    for v in prob.variables():\n",
        "        plan.append((v.name, v.varValue))\n",
        "    return plan\n",
        "\n",
        "# Get assignment plans for both problems\n",
        "assignment_plan_prob1 = get_assignment_plan(prob1)\n",
        "assignment_plan_prob2 = get_assignment_plan(prob2)\n",
        "\n",
        "# Find the maximum length to format the output\n",
        "max_len = max(len(assignment_plan_prob1), len(assignment_plan_prob2))\n",
        "\n",
        "# Pad the shorter list with empty values\n",
        "while len(assignment_plan_prob1) < max_len:\n",
        "    assignment_plan_prob1.append((\"\", \"\"))\n",
        "while len(assignment_plan_prob2) < max_len:\n",
        "    assignment_plan_prob2.append((\"\", \"\"))\n",
        "\n",
        "# Print the results side by side in two columns\n",
        "print(f\"{'Prob1':<41} {'Prob2'}\")\n",
        "print(f\"{'-'*40} {'-'*40}\")\n",
        "for (name1, value1), (name2, value2) in zip(assignment_plan_prob1, assignment_plan_prob2):\n",
        "    print(f\"{name1:<30} {value1:<10} {name2:<30} {value2}\")"
      ],
      "metadata": {
        "colab": {
          "base_uri": "https://localhost:8080/"
        },
        "id": "uv9kSXpI-ggO",
        "outputId": "8be442d4-def1-46f5-ba0f-61d87d096a22"
      },
      "execution_count": 40,
      "outputs": [
        {
          "output_type": "stream",
          "name": "stdout",
          "text": [
            "Prob1                                     Prob2\n",
            "---------------------------------------- ----------------------------------------\n",
            "1st_Route_A_1                  50.0       1st_Route_A_1                  50.0\n",
            "1st_Route_A_2                  20.0       1st_Route_A_2                  20.0\n",
            "1st_Route_A_3                  0.0        1st_Route_A_3                  0.0\n",
            "1st_Route_B_1                  0.0        1st_Route_B_1                  0.0\n",
            "1st_Route_B_2                  90.0       1st_Route_B_2                  90.0\n",
            "1st_Route_B_3                  0.0        1st_Route_B_3                  0.0\n",
            "1st_Route_C_1                  0.0        1st_Route_C_1                  0.0\n",
            "1st_Route_C_2                  0.0        1st_Route_C_2                  0.0\n",
            "1st_Route_C_3                  80.0       1st_Route_C_3                  80.0\n",
            "1st_Route_D_1                  0.0        1st_Route_D_1                  0.0\n",
            "1st_Route_D_2                  0.0        1st_Route_D_2                  60.0\n",
            "1st_Route_D_3                  60.0       1st_Route_D_3                  0.0\n",
            "2nd_Route_1_2                  50.0       2nd_Route_1_1                  0.0\n",
            "2nd_Route_1_3                  0.0        2nd_Route_1_2                  50.0\n",
            "2nd_Route_1_4                  0.0        2nd_Route_1_3                  0.0\n",
            "2nd_Route_1_5                  0.0        2nd_Route_1_4                  0.0\n",
            "2nd_Route_1_6                  0.0        2nd_Route_1_6                  0.0\n",
            "2nd_Route_2_2                  0.0        2nd_Route_2_1                  60.0\n",
            "2nd_Route_2_3                  70.0       2nd_Route_2_2                  0.0\n",
            "2nd_Route_2_4                  40.0       2nd_Route_2_3                  70.0\n",
            "2nd_Route_2_5                  0.0        2nd_Route_2_4                  40.0\n",
            "2nd_Route_2_6                  0.0        2nd_Route_2_6                  0.0\n",
            "2nd_Route_3_2                  0.0        2nd_Route_3_1                  0.0\n",
            "2nd_Route_3_3                  0.0        2nd_Route_3_2                  0.0\n",
            "2nd_Route_3_4                  40.0       2nd_Route_3_3                  0.0\n",
            "2nd_Route_3_5                  60.0       2nd_Route_3_4                  40.0\n",
            "2nd_Route_3_6                  40.0       2nd_Route_3_6                  40.0\n"
          ]
        }
      ]
    }
  ]
}